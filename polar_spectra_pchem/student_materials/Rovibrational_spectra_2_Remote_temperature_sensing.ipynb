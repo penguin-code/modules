{
 "cells": [
  {
   "cell_type": "markdown",
   "metadata": {},
   "source": [
    "## Computational Guided Inquiry for Polar Research  \n",
    "\n",
    "## Rovibrational spectra - 2. Remote temperature sensing\n",
    "\n",
    "### Learning Objectives  \n",
    "1. Learn how to model the populations of rotational states according to degeneracy and temperature.\n",
    "2. Learn how to use that population to infer an effective temperature of atmospheric $CO_2$ in a downwelling emission spectrum from South Pole Station, Antarctica.\n",
    "\n",
    "### Pre-class activities\n",
    "\n",
    "1. Read the Introduction.  \n",
    "2. Describe what is meant by the terms _selection rule_ and _forbidden transition_.\n",
    "3. Write the value of Boltzmann's constant, $k$, in SI units.\n",
    "4. Write the conversion from wavenumber, cm$^{-1}$, to Joules.\n"
   ]
  },
  {
   "cell_type": "markdown",
   "metadata": {},
   "source": [
    "### Introduction\n",
    "\n",
    "_Climate connection_  \n",
    "We have learned to identify features in downwelling IR spectra due to greenhouse gases ($CO_2$, $H_2O$, $O_3$, and others), and that these features help us measure the contribution of each gas to the greenhouse effect. We have also learned that in polar regions the spectral features of greenhouse gases are often easier to see than in warmer regions, and that this is because the polar atmosphere is so dry. These observations highlight the unique role offered by polar regions for using downwelling radiance spectra to examine the greenhouse effect.\n",
    "\n",
    "For this CGI, you'll pursue one such opportunity. There is a band due to $CO_2$, called the $(001) \\to (100)$ band, that is so faint that one needs spectra in polar regions to detect it (remember that there is less interference from water vapor in polar regions). And this band can be used to remotely detect the temperature of the $CO_2$ molecules. It's like a remote thermometer! In doing so, you'll develop a deeper understanding of why climate science is such an interdisciplinary endeavor: in this case, climate scientists must have a command of essential principles of quantum mechanics. More specifically, they need to know something about the _rovibrational structure_ of a spectroscopic band."
   ]
  },
  {
   "cell_type": "markdown",
   "metadata": {},
   "source": [
    "_Quantum Connection_: _Rovibrational structure of the $(001) \\to (100)$ band_  \n",
    "What is the process underlying the $(001) \\to (100)$ band? The answer involves both vibrational and rotational motions. Let's look at the vibrational part first. The notation here indicates a process in which $CO_2$ molecules undergo a transition, in which a quantum of vibrational energy in the asymmetric stretch mode (designated $001$) is transferred to the symmetric stretch mode (designated $100$). In the process, the molecule releases a photon of infrared light -- the signal detected by our FTIR spectrometer. \n",
    "\n",
    "Figure 1 shows an IR spectrum taken by a ground-based FTIR spectrometer at South Pole Station. The spectrum has been zoomed-in to show the $(001) \\to (100)$ spectral band, an M-shaped feature centered around 960.5 cm$^{-1}$, appearing just to the left of the ozone band. The left-hand hump of the \"M\" is called the _P-Branch_, and the right-hand hump is called the _R-Branch_ of the band. (Note that if plotted against wavelength, the P-Branch is to the right and the R-branch is to the left.)\n",
    "\n",
    "<p style ='text-align: center;'>\n",
    "<img src=\"http://webspace.pugetsound.edu/facultypages/nesh/Notebook/Downwelling radiance (001) to (100) co2.png\" height=\"700\" width=\"1000\"/> \n",
    "Figure 1. Rovibrational structure of downwelling IR radiance spectrum of the (001) to (100) $CO_2$ band.\n",
    "</p>\n"
   ]
  },
  {
   "cell_type": "markdown",
   "metadata": {},
   "source": [
    "Now let's look at the rotational part of the band. First we'll focus on the frequencies of the lines in the spectrum. For a linear molecule like $CO_2$, the energies of the rotational states are given by $E_J = B \\space J(J+1)$, where $J$ is a positive integer starting at zero, and $B$ is the rotational constant of the molecule. For the $(001) \\to (100)$ band, the spacing between peaks turns out to be $4B$. This is different from other transitions you may have encountered in the past, where the spacing between peaks is just $2B$. So the lines to the right of band center are associated with rotational quantum numbers $1, 3, 5, ...$ of the excited $(001)$ state. Lines to the left are associated with rotational quantum numbers $0, 2, 4, ...$ of the excited state. \n",
    "\n",
    "Next we'll tackle the heights of the peaks in the P- and R-Branches. It turns out that temperature has a key influence on those heights. Why is that? Quantum mechanics teaches us that these heights depend on the population (number of molecules) of any given rotational state. The population, in turn, depends on the _degeneracy_ and _energy_ of that rotational state. The degeneracy of rotational states of ${CO}_2$ is given by \n",
    "\n",
    "<p style = 'text-align: right;'>\n",
    "$g_J = 2J+1$\n",
    "$\\qquad\\qquad\\qquad\\qquad\\qquad\\qquad\\qquad\\qquad\\qquad\\qquad (1) $\n",
    "</p>\n",
    "\n",
    "The temperature dependence comes in through what is called the Boltzmann factor, \n",
    "\n",
    "<p style = 'text-align: right;'>\n",
    "$e^{-E_J/kT}$\n",
    "$\\qquad\\qquad\\qquad\\qquad\\qquad\\qquad\\qquad\\qquad\\qquad\\qquad\\qquad (2) $\n",
    "</p>\n",
    "\n",
    "\n",
    "The final expression for the population of a rotational state, relative to the $J=0$ state, is given by the product of these factors,\n",
    "\n",
    "\n",
    "<p style = 'text-align: right;'>\n",
    "$population = g_J \\space e^{-E_J/kT} $\n",
    "$\\qquad\\qquad\\qquad\\qquad\\qquad\\qquad\\qquad\\qquad\\qquad (3) $\n",
    "</p>\n",
    "\n",
    "where $T$ is the temperature, and $k$ is Boltzmann's constant. "
   ]
  },
  {
   "cell_type": "markdown",
   "metadata": {},
   "source": [
    "Equation 3 suggests the following strategy for remotely sensing the temperature of $CO_2$ from the $(001) \\to (100)$ band. You could _model_ the shape of, say, say, the R-Branch of the $CO_2$ $(001) \\to (100)$ band using Eq. 3, based on a temperature you guess at. If the shape of the modeled R-Branch matches the shape of the observed R-Branch, the temperature is right. If not, you could adjust the temperature until you get a good match. \n",
    "\n",
    "A note about units: for this exercise, you'll be working in SI units. That means, for example, that infrared spectra  often recorded in ${cm}^{-1}$ need to be converted to the SI unit for energy, $Joule$; the conversion is $1 \\space {cm}^{-1}=1.986 \\times 10^{-23} J$. Temperatures in SI are given in $K$. Boltzmann's constant, in SI units, is $1.38 \\times 10^{-23} \\space J/K$."
   ]
  },
  {
   "cell_type": "markdown",
   "metadata": {},
   "source": [
    "### Part 1. Obtaining the rotational constant of $CO_2$"
   ]
  },
  {
   "cell_type": "markdown",
   "metadata": {},
   "source": [
    "This cell collects the resources python needs to do this exercise."
   ]
  },
  {
   "cell_type": "code",
   "execution_count": null,
   "metadata": {
    "collapsed": true
   },
   "outputs": [],
   "source": [
    "# Load packages\n",
    "from numpy import *\n",
    "import matplotlib.pyplot as plt\n",
    "\n",
    "\n",
    "# This sets up the \"plotJstick\" function so one can graph what the spectrum would look like\n",
    "def lorentzian(y, x, x0, S, w):\n",
    "    numerator =  w**2\n",
    "    denominator = ( x - x0 )**2 + w**2\n",
    "    ynew = y + S*(numerator/denominator)\n",
    "    return ynew\n",
    "def nustick2spectrum(nu, nu_lines, S_lines, w):\n",
    "    y = zeros(size(nu))\n",
    "    for i in range(len(nu_lines)):\n",
    "        y = lorentzian(y, nu, nu_lines[i], S_lines[i],w)\n",
    "    return y\n",
    "def plotJstick(J, B, nu_offset, S_lines):\n",
    "    nu_lines = nu_offset + array(B*(2*J+1)) / 1.986e-23\n",
    "    nu = arange(min(nu_lines)-5, max(nu_lines)+20, 0.01)\n",
    "    y = nustick2spectrum(nu, nu_lines, S_lines, .02)\n",
    "    plt.plot(nu, y)\n"
   ]
  },
  {
   "cell_type": "markdown",
   "metadata": {},
   "source": [
    "Here you should enter the constants and conversion factor you looked up earlier (the values here might be wrong)"
   ]
  },
  {
   "cell_type": "code",
   "execution_count": null,
   "metadata": {
    "collapsed": true
   },
   "outputs": [],
   "source": [
    "# Some constants\n",
    "k = 1.38e-23  # Boltzmann's constant\n",
    "conversion_to_Joules = 1.986e-23"
   ]
  },
  {
   "cell_type": "code",
   "execution_count": null,
   "metadata": {
    "collapsed": true
   },
   "outputs": [],
   "source": [
    "%matplotlib notebook\n"
   ]
  },
  {
   "cell_type": "markdown",
   "metadata": {},
   "source": [
    "Now we'll have a look at the \"observed\" P- and R-Branch. We put \"observed\" in quotes because it is more convenient to use a simulation based on theory as well as observations (due to better noise and resolution characteristics)."
   ]
  },
  {
   "cell_type": "code",
   "execution_count": null,
   "metadata": {
    "collapsed": true
   },
   "outputs": [],
   "source": [
    "\n",
    "# This loads part of the spectrum for plotting\n",
    "band_001_100 = loadtxt('band_001_100.txt')\n",
    "nu_obs = band_001_100[:,0]\n",
    "S_obs = band_001_100[:,1]\n",
    "\n",
    "# Graph it\n",
    "plt.figure()\n",
    "plt.plot(nu_obs,S_obs)\n",
    "plt.title('001 -> 100 band, P- and R-branches')\n",
    "\n",
    "# This labels some of the excited states\n",
    "plt.plot(961.5, 4, '*', label='j=1')\n",
    "plt.plot(963, 10, '+', label='j=3')\n",
    "plt.plot(972, 22, 'x', label='j=15')\n",
    "plt.xlabel('cm$^{-1}$')\n",
    "plt.legend()"
   ]
  },
  {
   "cell_type": "markdown",
   "metadata": {},
   "source": [
    "### Pause for Analysis: Rotational constant\n",
    "\n",
    "1. Using the \"zoom\" feature, infer a value for the rotational constant of $CO_2$ from the figure above. Remember that $B$ equals 1/4 the spacing between adjacent rovibrational lines.\n",
    "2. Compare your result to a literature value, e.g., http://cccbdb.nist.gov/exp1x.asp. \n",
    "3. You should be aware that assigning a constant value to $B$ is a bit of an approximation. This is evident from the fact that the spacing between lines in the figure is not constant. By approximately how much (in %) does $B$ vary from j=1 to j=15?"
   ]
  },
  {
   "cell_type": "code",
   "execution_count": null,
   "metadata": {
    "collapsed": true
   },
   "outputs": [],
   "source": [
    "# Specify the value of B you got from the figure\n",
    "B =  * conversion_to_Joules    # Rotational constant of CO2"
   ]
  },
  {
   "cell_type": "markdown",
   "metadata": {},
   "source": [
    "### Part 2. Calculating the populations of excited rotational states"
   ]
  },
  {
   "cell_type": "markdown",
   "metadata": {},
   "source": [
    "Now you'll need to lay out a range of J-values. You can get an estimate of how many are present by counting the number of peaks in the R-Branch appearing in the figure above. Don't forget that only every _other_ line is present."
   ]
  },
  {
   "cell_type": "code",
   "execution_count": null,
   "metadata": {
    "collapsed": true
   },
   "outputs": [],
   "source": [
    "# Lay out a range of J-values from 1 to 40, stepping by 2\n",
    "# (see previous CGI if you forgot how to do this)\n",
    "J =\n",
    "\n",
    "print(J)"
   ]
  },
  {
   "cell_type": "markdown",
   "metadata": {},
   "source": [
    "The next cell has you compute the degeneracy factor and the Boltzmann factor, both needed to determine the population as a function of the rotational quantum number $J$."
   ]
  },
  {
   "cell_type": "code",
   "execution_count": null,
   "metadata": {
    "collapsed": true
   },
   "outputs": [],
   "source": [
    "# Get the degeneracy factor\n",
    "g_J = 2*J+1\n",
    "\n",
    "# Plot it\n",
    "plt.figure()\n",
    "plt.plot(J, g_J, '-o')\n",
    "plt.title('Degeneracy factor, R-Branch')\n",
    "plt.grid('on')\n",
    "plt.xlabel('J')\n",
    "plt.ylabel('Degeneracy')\n",
    "\n",
    "# Specify the temperature and compute the Boltzmann factor\n",
    "T = 270\n",
    "E_J = B*J*(J+1)\n",
    "B_factor = exp(-E_J/(k*T))\n",
    "\n",
    "# Plot it\n",
    "plt.figure(); plt.plot(J, B_factor, '-o')\n",
    "plt.title('Boltzmann factor, R-Branch')\n",
    "plt.grid('on')\n",
    "plt.xlabel('J')\n",
    "plt.ylabel('Boltzmann factor')"
   ]
  },
  {
   "cell_type": "markdown",
   "metadata": {},
   "source": [
    "### Pause for analysis: Degeneracy and population\n",
    "\n",
    "1. According to your results above, higher $J$ means greater degeneracy. Speculate as to why this occurs (perhaps with the help of your instructor).\n",
    "2. Predict what the product function $g_J \\space e^{-E_J/kT} $\n",
    "will look like. Make a sketch in your notebook."
   ]
  },
  {
   "cell_type": "code",
   "execution_count": null,
   "metadata": {
    "collapsed": true
   },
   "outputs": [],
   "source": [
    "# The product tells us the population of each rotational state\n",
    "Population = g_J*B_factor\n",
    "plt.figure()\n",
    "plt.plot(J, Population, '-o')\n",
    "plt.title('Relative population, R-Branch')\n",
    "plt.ylabel('Relative population')\n",
    "plt.grid('on')\n",
    "plt.xlabel('J')"
   ]
  },
  {
   "cell_type": "markdown",
   "metadata": {},
   "source": [
    "### Pause for Analysis: Maximum population\n",
    "\n",
    "1. Re-run the cells above for different temperatures to get a sense of how the maximum population depends on  temperature. \n",
    "2. What temperature is required to get the maximum population to coincide with the highest line in the observed spectrum?"
   ]
  },
  {
   "cell_type": "markdown",
   "metadata": {},
   "source": [
    "### Part 3. Comparing modeled to simulated spectra"
   ]
  },
  {
   "cell_type": "code",
   "execution_count": null,
   "metadata": {
    "collapsed": true
   },
   "outputs": [],
   "source": [
    "# Re-plot the observed spectrum for comparison\n",
    "plt.figure()\n",
    "plt.plot(nu_obs,S_obs)\n",
    "plt.xlim([925, 990])\n",
    "plt.ylim([0, 22])\n",
    "plt.xlabel('wavenumber (cm$^{-1}$)')\n",
    "\n",
    "\n",
    "# This graphs the line strengths (in \"Population\") as a spectrum\n",
    "# Make sure you have run the cells above with the correct temperature \n",
    "# before running this.\n",
    "plotJstick(J, B, 960.5, Population)\n",
    "plt.grid('on')\n",
    "plt.xlabel('wavenumber (cm$^{-1}$)')\n",
    "plt.xlim([925, 990])\n",
    "plt.ylim([0, 22])\n",
    "\n",
    "# Put a legend on the graph\n",
    "plt.legend(['South Pole','Predicted'])"
   ]
  },
  {
   "cell_type": "markdown",
   "metadata": {},
   "source": [
    "### Pause for Analysis: Matching the spectrum\n",
    "\n",
    "1. How well do your modeled and observed R-Branches agree?"
   ]
  },
  {
   "cell_type": "markdown",
   "metadata": {},
   "source": [
    "### Post-activity reflection\n",
    "\n",
    "1. Make sure you have recorded your Pause for Analysis reflections in your notebook, with appropriate graphs and equations, the value of $B$ and the temperature you determined.\n",
    "2. In this activity, we used the j number for the most populated state to determine the near-surface atmospheric temperature. In the next module we will look at another method to determine the atmospheric temperature."
   ]
  }
 ],
 "metadata": {
  "kernelspec": {
   "display_name": "Python 3",
   "language": "python",
   "name": "python3"
  },
  "language_info": {
   "codemirror_mode": {
    "name": "ipython",
    "version": 3
   },
   "file_extension": ".py",
   "mimetype": "text/x-python",
   "name": "python",
   "nbconvert_exporter": "python",
   "pygments_lexer": "ipython3",
   "version": "3.6.7"
  }
 },
 "nbformat": 4,
 "nbformat_minor": 2
}
