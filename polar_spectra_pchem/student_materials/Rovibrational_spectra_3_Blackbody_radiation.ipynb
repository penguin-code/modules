{
 "cells": [
  {
   "cell_type": "markdown",
   "metadata": {},
   "source": [
    "## Computational Guided Inquiry for Polar Research \n",
    "\n",
    "## Rovibrational spectra - 3. Connection to blackbody radiation\n",
    "\n",
    "### Learning Objectives\n",
    "1. Learn how blackbody radiation is related to downwelling radiation from the atmosphere.\n",
    "2. Learn how to use the Planck function and a downwelling radiance spectrum to estimate the surface temperature.\n",
    "\n",
    "### Pre-class activities\n",
    "\n",
    "1. Review your blackbody radiation module (Assignment 1) and Rovibrational spectra modules 1 and 2 as needed."
   ]
  },
  {
   "cell_type": "markdown",
   "metadata": {},
   "source": [
    "### Introduction\n",
    "\n",
    "_Planck blackbody radiation spectrum as a function of wavenumber_  \n",
    "In previous assignments, you plotted the energy density of a blackbody (e.g. the sun) as a function of wavelength ($\\lambda$), and plotted downwelling radiance spectra as a function of wavenumber ($\\nu$). How are these spectra of emitted radiation related? Here we will compare spectra of blackbody radiation to spectra of donwelling radiation from the atmosphere and see how such comparison is another way you can infer the temperature of the atmosphere.\n",
    "\n",
    "To see how the radiation from a blackbody compares to the radiation from the atmosphere, we will imagine that we can turn the FTIR spectrometer to look at the blackbody, instead of looking at the sky. What spectrum will it record from the blackbody? \n",
    "\n",
    "The equation for the energy density was given to you as\n",
    "\n",
    "\n",
    "<p style = 'text-align: right;'>\n",
    "$\\rho(\\lambda, T) = \\dfrac{8\\pi hc} {\\lambda^5\\left(e^{hc\\nu/ kT}-1\\right)}$,\n",
    "$\\qquad\\qquad\\qquad\\qquad\\qquad\\qquad\\qquad\\qquad\\qquad\\qquad\\qquad (1) $\n",
    "</p>\n",
    "\n",
    "where $\\rho$ is the radiated energy density per unit wavelength $(\\lambda)$, h is Planck's constant, c is the speed of light, T is the temperature, and k is the Boltzmann constant. \n",
    "\n",
    "\n",
    "The instrument doesn't actually measure the energy density; instead it measures something slightly different, which is given by the Planck function. This is just the energy distribution multiplied by c/(4$\\pi$).\n",
    "\n",
    "<p style = 'text-align: right;'>\n",
    "$P(\\lambda, T) = \\dfrac{2 hc^2} {\\lambda^5\\left(e^{hc\\nu/ kT}-1\\right)}$,\n",
    "$\\qquad\\qquad\\qquad\\qquad\\qquad\\qquad\\qquad\\qquad\\qquad\\qquad\\qquad (2) $\n",
    "</p>\n",
    "\n",
    "Finally, the downwelling radiance spectrum is given in terms of wavenumbers ($\\widetilde{\\nu}$), rather than wavelength ($ \\lambda$). Recall that $\\widetilde{\\nu} = 1 / \\lambda $. The blackbody radiation is written in terms of wavenumbers as follows\n",
    "\n",
    "\n",
    "<p style = 'text-align: right;'>\n",
    "$P( \\widetilde{\\nu}, T) = \\dfrac{2 hc^2\\widetilde{\\nu}^3} {\\left(e^{hc\\widetilde{\\nu}/ kT}-1\\right)}$.\n",
    "$\\qquad\\qquad\\qquad\\qquad\\qquad\\qquad\\qquad\\qquad\\qquad\\qquad\\qquad (3) $\n",
    "</p>\n",
    "\n",
    "This conversion is similar to what you did in homework problem 1-12 of McQuarrie.\n"
   ]
  },
  {
   "cell_type": "markdown",
   "metadata": {},
   "source": [
    "### Part 1. Revisiting the Planck blackbody radiation spectrum\n"
   ]
  },
  {
   "cell_type": "code",
   "execution_count": null,
   "metadata": {},
   "outputs": [],
   "source": [
    "# Run this cell without modifying anything\n",
    "\n",
    "# .. Load packages\n",
    "from numpy import *\n",
    "import scipy.io.netcdf as netcdf\n",
    "from matplotlib.pyplot import *\n",
    "import quantumlibrary as ql\n",
    "import copy\n",
    "import radtran\n",
    "\n",
    "# .. Constants\n",
    "h = 6.62607004e-34 # m2 kg / s\n",
    "c = 2.99792458e8   # m / s\n",
    "k = 1.38064852e-23 # J/K\n",
    "\n",
    "# .. We'll be using the polar spectrum and the Oklahoma spectrum again, so load them in now.\n",
    "#    Polar spectrum\n",
    "with netcdf.netcdf_file('smtaerich1nf1turnX1.c1.20101228.000313.cdf', 'r') as f:\n",
    "    nu_polar = copy.deepcopy(f.variables['wnum'][:])\n",
    "    radiance_polar = copy.deepcopy(mean(f.variables['mean_rad'][3300:3375, :], axis=0))\n",
    "\n",
    "#    Oklahoma spectrum\n",
    "filename_oklahoma  = 'sgp_aeri_20170706.000443.txt' \n",
    "oklahoma_data = loadtxt(filename_oklahoma)\n",
    "nu_oklahoma = oklahoma_data[:,0]\n",
    "radiance_oklahoma = oklahoma_data[:,1]\n"
   ]
  },
  {
   "cell_type": "markdown",
   "metadata": {},
   "source": [
    "Plot a blackbody radiation spectrum for a temperature of 6000 K as a function of wavenumber. Use the limits 100 to 4e6, with about 1000 points."
   ]
  },
  {
   "cell_type": "code",
   "execution_count": null,
   "metadata": {},
   "outputs": [],
   "source": [
    "# Complete and run the cell below\n",
    "nu = linspace(...)   # m-1\n",
    "\n",
    "T = ...\n",
    "eterm = exp(h * c * nu / (k * T))\n",
    "planck_function_6000K = 2 * h * c**2 * nu**3 / (eterm - 1)\n"
   ]
  },
  {
   "cell_type": "code",
   "execution_count": null,
   "metadata": {},
   "outputs": [],
   "source": [
    "# Plot the blackbody radiation spectrum by completing the code below\n",
    "# It is typical to plot spectra as a function of wavenumbers\n",
    "# in cm^-1 rather than m^-1, so we divide nu by 100 below.\n",
    "%matplotlib notebook\n",
    "\n",
    "figure()\n",
    "plot(nu/100, ..., label = '6000 K')\n",
    "xlabel('wavenumber (cm$^{-1}$)')\n",
    "ylabel('Radiance')\n",
    "legend()\n"
   ]
  },
  {
   "cell_type": "markdown",
   "metadata": {},
   "source": [
    "Recall that 6000 K is the temperature of the sun. How does this compare to the temperature of the atmosphere? \n",
    "In the cell below, create a Planck fuction as was done above, but for 300 K, the typical temperature of the near-surface atmosphere. Then replot the sun spectrum together with the 300 K spectrum. Again use nu/100 when plotting."
   ]
  },
  {
   "cell_type": "code",
   "execution_count": null,
   "metadata": {},
   "outputs": [],
   "source": [
    "# Complete and run the code below.\n",
    "T = \n",
    "eterm = \n",
    "planck_function_300K = \n",
    "\n",
    "figure()\n",
    "plot(..., label = 'sun: 6000 K')\n",
    "plot(..., planck_function_300K, label = 'near-surface atmosphere: 300 K')\n",
    "xlabel('wavenumber (cm$^{-1}$)')\n",
    "ylabel('Radiance')\n",
    "legend()\n"
   ]
  },
  {
   "cell_type": "markdown",
   "metadata": {},
   "source": [
    "The spectrum for 300 K looks like it's at 0. You can zoom in on it to see the values. In order to see the spectral shapes of both at the same time, below we replot them but using different y-axis: the left axis represents the 300 K spectrum, while the right axis represents the 6000 K spectrum."
   ]
  },
  {
   "cell_type": "code",
   "execution_count": null,
   "metadata": {},
   "outputs": [],
   "source": [
    "# Run the code below without changing anything\n",
    "fig, ax1 = subplots()\n",
    "\n",
    "color = 'tab:red'\n",
    "ax1.set_xlabel('wav')\n",
    "ax1.set_ylabel('Energy density', color=color)\n",
    "ax1.plot(nu/100, planck_function_300K, color=color, label='300 K')\n",
    "ax1.tick_params(axis='y', labelcolor=color)\n",
    "xlabel('wavenumber (cm$^{-1}$)')\n",
    "ylabel('Radiance')\n",
    "ax1.legend(loc='best')\n",
    "\n",
    "ax2 = ax1.twinx()  # instantiate a second axes that shares the same x-axis\n",
    "color = 'tab:blue'\n",
    "ax2.set_ylabel('Radiance', color=color)  # we already handled the x-label with ax1\n",
    "ax2.plot(nu/100, planck_function_6000K, color=color, label = '6000 k')\n",
    "ax2.tick_params(axis='y', labelcolor=color)\n",
    "xlabel('wavenumber (cm$^{-1}$)')\n",
    "ylabel('Radiance')\n",
    "ax2.legend(bbox_to_anchor=(0,0,1,.9))\n",
    "\n",
    "\n",
    "fig.tight_layout()  # otherwise the right y-label is slightly clipped\n",
    "\n"
   ]
  },
  {
   "cell_type": "markdown",
   "metadata": {},
   "source": [
    "How do the peaks compare? Discuss the magnitudes and wavenumber."
   ]
  },
  {
   "cell_type": "markdown",
   "metadata": {},
   "source": [
    "### Pause for Anaysis\n",
    "1. Look back at your CGI on blackbody radiation. How does the plot for the temperature of the sun compare to what you plotted earlier?\n",
    "2. Looking at the plot above, how does the position of the peak in wavenumbers change with temperature?"
   ]
  },
  {
   "cell_type": "markdown",
   "metadata": {},
   "source": [
    "### Part 2. Revisiting the polar downwelling radiance spectrum\n",
    "\n",
    "### Try your skill: Maxing out the water vapor   \n",
    "In the following you will replot the polar spectrum you used previously, as well as the spectrum for your model atmosphere:\n",
    "1. Multiply the H$_2$O by 10 and run the cell below.\n",
    "2. Repeat step 1 until the spectrum for your model atmosphere stops changing.\n"
   ]
  },
  {
   "cell_type": "code",
   "execution_count": null,
   "metadata": {},
   "outputs": [],
   "source": [
    "# Modify the following according to the instructions.\n",
    "co2 = 400\n",
    "h2o = 400\n",
    "ch4 = 2\n",
    "other = 1\n",
    "dT = 0\n",
    "\n",
    "# Run a function that gets the radiance for your model atmosphere (do not modify)\n",
    "nu_my_atmosphere, radiance_my_atmosphere, my_legend = radtran.get_my_radiance(\n",
    "    co2, h2o, ch4, other, dT)\n",
    "\n",
    "# Plot the spectrum for your atmosphere together with the Oklahoma and polar spectra\n",
    "# (no need to modify this)\n",
    "fig = figure()\n",
    "plot(nu_polar, radiance_polar, 'c')\n",
    "plot(nu_my_atmosphere, radiance_my_atmosphere, color='orange')\n",
    "legend(['Polar Winter', my_legend])\n",
    "\n"
   ]
  },
  {
   "cell_type": "markdown",
   "metadata": {},
   "source": [
    "### Pause for analysis: maxing out the water vapor\n",
    "1. Does the shape of this curve remind you of anything?  \n",
    "2. What happens if you continue to increase H$_2$O?  \n",
    "3. How does this help explain why some of the strongest features do not have a an M-shape?\n"
   ]
  },
  {
   "cell_type": "markdown",
   "metadata": {},
   "source": [
    "### Part 2. Comparing the polar spectrum to a blackbody function"
   ]
  },
  {
   "cell_type": "markdown",
   "metadata": {},
   "source": [
    "Below we plot the spectrum from your atmosphere as well as the polar spectrum. \n",
    "\n",
    "Add your blackbody function at 300 K to the plot. Don't forget to divide nu by 100. You also need to multiply your blackbody function by 10^5 because the polar spectrum was scaled by that amount.\n"
   ]
  },
  {
   "cell_type": "code",
   "execution_count": null,
   "metadata": {},
   "outputs": [],
   "source": [
    "# Plot the spectrum from your model atmosphere and the polar winter.\n",
    "fig = figure()\n",
    "\n",
    "plot(nu_polar, radiance_polar, 'c', label = 'Polar Winter')\n",
    "plot(nu_my_atmosphere, radiance_my_atmosphere, color='orange', label = my_legend)\n",
    "plot(nu/100, 1e5*planck_function_300K, label = 'Planck function for 300 K')  # add the Planck function for 300 K here\n",
    "legend()\n",
    "\n",
    "# Zoom in on the region of interest\n",
    "xlim([450, 1800])"
   ]
  },
  {
   "cell_type": "markdown",
   "metadata": {},
   "source": [
    "By modifying the cell below, plot blackbodies at different temperatures until you feel that you have matched the polar spectrum well between 640 and 700 cm$^{-1}$. Zoom in and out as needed. (Rerun the cell before the plot if you want to clear off all the curves for the Blackbody functions.)"
   ]
  },
  {
   "cell_type": "code",
   "execution_count": null,
   "metadata": {},
   "outputs": [],
   "source": [
    "T = \n",
    "eterm = exp(h*c*nu/(k*T))\n",
    "planck_function_my_temperature = 2*h*c**2*nu**3/(eterm-1)\n",
    "\n",
    "plot(nu/100, 1e5*planck_function_my_temperature, label = 'Plank function for ' +str(T) + ' K')\n",
    "legend()"
   ]
  },
  {
   "cell_type": "markdown",
   "metadata": {},
   "source": [
    "### Pause for analysis: comparing the polar spectrum to a blackbody function\n",
    "1. What temperature produces the best fit?  "
   ]
  },
  {
   "cell_type": "markdown",
   "metadata": {},
   "source": [
    "In Part 1 you discovered that when you max out the H$_2$O in the atmosphere, you get a blackbody function. Furthermore, if you continue increasing the H$_2$O after this point, the function does not change. In Part 2 you learned that the magnitude of the blackbody function depends on temperature.\n",
    "\n",
    "Maxing-out to a blackbody function represents the worst-case scenario for the greenhouse effect. This is what happens in a positive feedback mechanism known as the _runaway greenhouse_. Temperature increases, causing water to evaporate from the oceans, which increases the H$_2$O emission, which increases temperature, and so on until the oceans have boiled away. Climate scientists do not think this will happen on Earth. But it is believed to have happened on Venus and explains why Venus is so much hotter than expected based on proximity to the sun. \n"
   ]
  },
  {
   "cell_type": "markdown",
   "metadata": {},
   "source": [
    "### Part 3. Comparing the Oklahoma spectrum to a blackbody function\n",
    "You have determined the temperature of the surface for the polar spectrum. Next you will determine the surface temperature for the Oklahoma spectrum. \n",
    "\n",
    "Add your blackbody function to the plot. Don't forget to divide nu by 100. You also need to multiply your blackbody function by 10$^5$ (1e5) because the Oklahoma and polar spectra were scaled by that amount.\n",
    "\n",
    "You might be able to guess the temperature for Oklahoma based on what you did in the first ro-vibrational module. If so, start with that as your first guess below."
   ]
  },
  {
   "cell_type": "code",
   "execution_count": null,
   "metadata": {},
   "outputs": [],
   "source": [
    "# Plot the Oklahoma spectrum together with the polar spectrum\n",
    "figure()\n",
    "plot(nu_polar, radiance_polar, label = 'Polar winter')\n",
    "plot(nu_oklahoma, radiance_oklahoma, label = 'Oklahoma summer')\n",
    "\n",
    "xlim([490, 1800])          \n",
    "xlabel('wavenumber (cm$^{-1}$)')\n",
    "ylabel('Radiance (mW / [m$^2$ sr$^{-1}$ cm$^{-1}$])')\n",
    "\n",
    "legend(['Planck function(T='+str(T)+')','Polar Winter', 'Oklahoma Summer'])\n",
    "\n",
    "# Create and plot blackbody function below. \n",
    "T = \n",
    "eterm = \n",
    "planck_function_my_temperature = \n",
    "\n",
    "plot(nu/100, 1e5*planck_function_my_temperature, label = 'Planck function for ' + str(T) + ' K')\n",
    "legend()"
   ]
  },
  {
   "cell_type": "markdown",
   "metadata": {},
   "source": [
    "### Pause for Analysis: polar vs. mid-latitude spectra\n",
    "\n",
    "1. What temperature produces the best fit for the Oklahoma summer spectrum?\n",
    "2. How does that compare to the temperature for the polar winter?\n",
    "3. Are these realistic temperatures for these regions (convert to Fahrenheit or Celsius as needed)?\n"
   ]
  },
  {
   "cell_type": "markdown",
   "metadata": {},
   "source": [
    "What part of the atmosphere does this temperature correspond to? The downwelling radiance is coming from emission by gases in the atmosphere, so we can say that this is the temperature somewhere in the atmosphere. You have been fitting to the strongest CO2 and H2O bands. Close to the center of this band, which is the region you have been using for fitting, emission is so strong that the emission you are seeing originates from CO2 molecules right above the instrument. Thus the temperature corresponds to the near-surface temperature."
   ]
  },
  {
   "cell_type": "markdown",
   "metadata": {},
   "source": [
    "### Post-activity reflection\n",
    "1. Briefly describe the two techniques you used to determine the atmospheric temperature from a downwelling radiation spectrum.\n",
    "2. How does this topic - absorption and emission of greenhouse gases via ro-vibrational transitions - impact your life?"
   ]
  },
  {
   "cell_type": "code",
   "execution_count": null,
   "metadata": {},
   "outputs": [],
   "source": []
  }
 ],
 "metadata": {
  "kernelspec": {
   "display_name": "Python 3",
   "language": "python",
   "name": "python3"
  },
  "language_info": {
   "codemirror_mode": {
    "name": "ipython",
    "version": 3
   },
   "file_extension": ".py",
   "mimetype": "text/x-python",
   "name": "python",
   "nbconvert_exporter": "python",
   "pygments_lexer": "ipython3",
   "version": "3.6.7"
  }
 },
 "nbformat": 4,
 "nbformat_minor": 1
}
