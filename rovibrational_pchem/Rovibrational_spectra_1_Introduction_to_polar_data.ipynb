{
 "cells": [
  {
   "cell_type": "markdown",
   "metadata": {},
   "source": [
    "## Computational Guided Inquiry for Polar Research  \n",
    "\n",
    "## Rovibrational spectra - 1. Introduction to polar data\n",
    "\n",
    "### Learning Objectives\n",
    "1. Learn about the greenhouse effect.\n",
    "2. Learn how to download and plot a downwelling radiance spectrum from polar regions.\n",
    "3. Understand how gases contribute to the greenhouse effect, which are the most important, and how these contributions are unique in Polar Regions.\n",
    "3. Examine infrared spectral features due to ro-vibrational transitions.\n",
    "\n",
    "### Pre-class activities\n",
    "\n",
    "1. Read the Introduction.  \n",
    "2. Define the terms _radiative balance_, _greenhouse effect_, and _downwelling radiance_.\n",
    "3. Give a few reasons why polar data is useful for understanding climate.\n",
    "4. Follow the instructions to download a polar spectrum and find its location on your computer."
   ]
  },
  {
   "cell_type": "markdown",
   "metadata": {},
   "source": [
    "### Introduction\n",
    "\n",
    "_Why study climate change in a Quantum Mechanics course?_  \n",
    "In this CGI module we will look at rotational-vibrational transitions in the context of a real-world application: climate change. Climate change is arguably one of the greatest challenges we currently face. There is a scientific consensus that emission of fossil fuels by humans is leading to climate change, with serious negative consequences for life on our planet and for all of us. At the same time, the climate is extremely complicated, and understanding it requires an interdisciplinary effort, including chemistry, atmospheric science, geology, and social sciences. Further, scientists study climate through a broad range of observations of the land, atmosphere, and oceans. Some of the most difficult observations to collect are in the harsh, remote environments of the polar regions. Yet polar observations are crucial because the unique conditions of the polar regions lead to amplification of climate change. In this CGI, you will work directly with polar data, examining the greenhouse effect observed in the Arctic and Antarctic through the lens of quantum mechanics. To allow you to work directly with observed data, you will use Python code. Although you will learn some basics of coding along the way, the Juypter Notebooks should provide a framework to guide you through each step."
   ]
  },
  {
   "cell_type": "markdown",
   "metadata": {},
   "source": [
    "_Climate connection_  \n",
    "The primary source of energy for Earth is the sun. Earth's surface absorbs sunlight (mainly UV and visible light) and emits energy out to space as infrared radiation. When the incoming radiation equals the outgoing radiation, the Earth is said to be in _radiative balance_. By burning fossil fuels, humans have siginficantly increased the amount of greenhouse gases in the atmosphere. Greenhouse gases trap some of the outgoing infrared radiation from Earth's surface and also emit infrared radiation up to space and back down to Earth. This causes Earth's surface to warm up until it re-acheives radiative balance. This is the _greenhouse effect_, visually represented in Figure 1.\n",
    "\n",
    "<p style ='text-align: center;'>\n",
    "<img src=\"radiative_balance.png\" height=\"500\" width=\"500\"/> \n",
    "<br>Figure 1. Radiative balance and the greenhouse effect. (Image created by Aedin Wright).\n",
    "</p>\n",
    "\n",
    "In this activity, we will examine the radiation emitted by greenhouse gases down to Earth's surface, or the _downwelling radiance_. Downwelling radiance spectra are measured by IR spectrometers, as shown in Figure 2.\n",
    "\n",
    "\n",
    "<!-- To measure a spectrum of downwelling radiance, IR spectrometers are used. IR spectrometers can be depolyed in various ways: on the surface, on a satellite, or on a balloon or airplane. They can look up or down, or at an angle. Many IR spectrometers are mounted on satellites and look down at the Earth, allowing collection of data over much of Earth's surface. However, these instruments see radiation from the Earth's surface as well as the atmosphere. Because we want to focus here on measurements of the atmosphere only, we will use measurements from an instrument that is on the ground, looking up, and measuring downwelling radiance. An example is shown in Figure 2.\n",
    "-->\n",
    "\n",
    "<p style ='text-align: center;'>\n",
    "<img src=\"IRspec_noaa.png\" height=\"500\" width=\"500\"/> \n",
    "<br>Figure 2. Infrared spectrometer sensing downwelling radiance emitted by greenhouse gases. (Adapted by Aedin Wright and Penny Rowe from an image courtesy of the National Severe Storms Laboratory of the National Oceanic and Atmospheric Administration.)\n",
    "</p>\n"
   ]
  },
  {
   "cell_type": "markdown",
   "metadata": {},
   "source": [
    "_Polar connection_  \n",
    "Climate scientists measure downwelling radiance in Arctic and Antarctic observatories. One such observatory is in Greenland. The Greenland ice sheet is of particular interest because of its potential to raise sea level. Scientists estimate that the melting of the Greenland ice sheet would raise sea level by about 7 m. Furthermore, recent research is suggesting that global warming will cause loss of Greenland ice faster than previously thought, with potentially large implications for sea level rise and cascading effects due to the large input of freshwater into the ocean. The greenhouse effect over Greenland is contributing to this melting.\n",
    "\n",
    "\n",
    "\n",
    "<!--  \n",
    "Resources:\n",
    "https://www.sciencedaily.com/releases/2016/12/161207133453.htm \n",
    "http://time.com/4592866/greenland-ice-sea-level-rise-climate-change/\n",
    "https://www.washingtonpost.com/news/energy-environment/wp/2017/06/06/a-climate-chain-reaction-major-greenland-melting-could-devastate-crops-in-africa/?utm_term=.f675aba74f2f\n",
    "\n",
    "-->"
   ]
  },
  {
   "cell_type": "markdown",
   "metadata": {},
   "source": [
    "_Quantum connection_  \n",
    "In the above we discuss the greenhouse effect and greenhouse gases from the point of view of climate science. What is a greenhouse gas from the point of view of a physical chemist studying quantum mechanics? A greenhouse gas is a gas capable of absorbing and emitting infrared radiation via rotational-vibrational transitions. As you will see in this activity, in the real atmosphere the result is a complicated emission spectrum. \n",
    "\n",
    "In this activity, we will download and examine downwelling radiance spectra to understand how individual gases contribute to the greenhouse effect. As you will see, by looking at a spectrum of downwelling radiance, you can distinguish _which_ gases are contributing to the greenhouse effect, and also _how much_ they contribute. Finally, we will examine the spectral features that make up the downwelling radiance, i.e. the spectral features due to ro-vibrational transitions."
   ]
  },
  {
   "cell_type": "markdown",
   "metadata": {},
   "source": [
    "### Pre-class Activity: Downloading a polar spectrum\n",
    "    \n",
    "1. Open your web browser and paste the address ftp://ftp1.esrl.noaa.gov/psd3/arctic/summit/aeri/ into it.  \n",
    "3. If a pop-up box appears, click “guest” and then Connect. \n",
    "4. Double click the folder “processed.” \n",
    "5. Scroll down to the file \"smtaerich1nf1turnX1.c1.20101228.000313.cdf.\" (If you are viewing the files as icons in the finder of a Mac, click the three vertical lines in the view menu at the top to change to list view to find the file easier).\n",
    "6. Click on the file to download it. Follow the directions you were given to find and move files on your Mac or PC in order to move the downloaded file into the directory where this Jupyter Notebook is."
   ]
  },
  {
   "cell_type": "markdown",
   "metadata": {},
   "source": [
    "### Part 1. Plotting a polar spectrum\n",
    "In the following, you will plot the polar spectrum. \n",
    "\n",
    "If you are using your Jupyter Notebook on your personal computer, first you need to copy the file to the directory where your Jupyter Notebook is. Open a new finder window (Mac) or file explorer window (PC) and find the folder containtaing the Jupyter notebook. Drag and drop the downloaded file, which you found previously, to the directory where the Jupyter Notebook is. \n",
    "\n",
    "If you are using Jupyter Notebook on a server, your instructor will explain how to copy the file onto the server.\n",
    "\n",
    "You will not need to change anything in the cells in Part 1."
   ]
  },
  {
   "cell_type": "code",
   "execution_count": null,
   "metadata": {
    "collapsed": true
   },
   "outputs": [],
   "source": [
    "# Load packages\n",
    "from numpy import *\n",
    "import scipy.io.netcdf as netcdf\n",
    "import matplotlib.pyplot as plt\n",
    "import radtran\n",
    "import copy\n"
   ]
  },
  {
   "cell_type": "code",
   "execution_count": null,
   "metadata": {
    "collapsed": true
   },
   "outputs": [],
   "source": [
    "# Here we load in the file (using a context manager) and get the variables of interest\n",
    "with netcdf.netcdf_file('smtaerich1nf1turnX1.c1.20101228.000313.cdf', 'r') as f:\n",
    "    nu_polar = copy.deepcopy(f.variables['wnum'][:])\n",
    "    radiance_polar = copy.deepcopy(mean(f.variables['mean_rad'][3300:3375, :], axis=0))\n",
    "                                       "
   ]
  },
  {
   "cell_type": "code",
   "execution_count": null,
   "metadata": {
    "collapsed": true
   },
   "outputs": [],
   "source": [
    "# Here we plot the polar spectrum from Greenland\n",
    "%matplotlib notebook\n",
    "plt.figure(3)\n",
    "plt.plot(nu_polar, radiance_polar)\n",
    "\n",
    "plt.plot([450, 1800], [0, 0], 'k:')    \n",
    "plt.axis([490, 1800, -5, 80])\n",
    "plt.xlabel('wavenumber (cm$^{-1}$)')\n",
    "plt.ylabel('Radiance (mW / [m$^2$ sr$^{-1}$ cm$^{-1}$])')\n",
    "plt.title('Polar downwelling radiance')\n"
   ]
  },
  {
   "cell_type": "markdown",
   "metadata": {},
   "source": [
    "### Pause for Analysis: Polar spectrum\n",
    "\n",
    "1. Based on your prior knowledge, what do you think are the most important greenhouse gases?  \n",
    "2. This downwelling radiance is due to emission of infrared radiation by greenhouse gases. Make guesses as to what the spectrum would look like if:   \n",
    "    a) There were no greenhouse gases in the atmosphere.  \n",
    "    b) The amount of greenhouse gases in the atmosphere was much higher. \n",
    "3. In the next part, we will explore the emission features of individual greenhouse gases that make up this spectrum. Examining the spectrum closely; do any features/shapes stand out to you? (Hints: Features typically span 50 to 80 cm$^{-1}$. Make sure you know how to use the zoom feature.)\n"
   ]
  },
  {
   "cell_type": "markdown",
   "metadata": {},
   "source": [
    "### Part 2. Greenhouse gas information  in downwelling IR radiance spectra"
   ]
  },
  {
   "cell_type": "markdown",
   "metadata": {},
   "source": [
    "The figure above is a spectrum of the _downwelling IR radiance_, taken by a ground-based IR spectrometer. In it, you can see a number of interesting features. For one thing, the instrument was pointed at a cloud-free section of the sky, so all the features you see are due to atmospheric gases. In particular, the features are due to emission of infrared radiation by gases as they make rotational-vibrational transitions. Here we will explore where various gases emit infrared radiation to create the downwelling radiance spectrum, what the emission features look like, and how they build up to create the spectrum.\n",
    "\n",
    "### Try your skill: greenhouse gas features in spectra\n",
    "\n",
    "The following cell gives you the opportunity to control the greenhouse gas concentrations in a model atmosphere. Explore where gases emit, starting with the following.\n",
    "\n",
    "1. Set all the greenhouse gas concentrations to 0. (Was your guess correct for 2a above?)\n",
    "2. Add CO$_2$ to your model atmosphere - set the CO$_2$ value to the current value of ~400 ppm. Where is the largest CO$_2$ feature? Use the zoom feature to zoom in around y = 0 to see the smaller features. \n",
    "3. Sketch the shape of one of the smaller features in your notebook. \n",
    "4. Repeat 1, then set H$_2$O to 400 ppm. Note where H$_2$O emits.\n",
    "5. Repeat 1, then set CH$_4$ to 2 ppm. Note where CH$_4$ emits.\n",
    "6. Repeat 1, then set other to 1 to see where a few other greenhouse gases emit. The feature centered at 1042 cm$^{-1}$ is due to ozone, while the feature centered at around 1280 cm$^{-1}$ is due to N$_2$O. What shapes do these features have?\n",
    "7. Now set all the values to be similar to the atmospheric state for the time the polar downwelling radiance spectrum was measured: CO$_2$=400 ppm, H$_2$O=400 ppm, CH$_4$=2 ppm, other=1.  \n",
    "8. Using your notes from above, with a partner point out where the various greenhouse gases emit, and discuss which you think are the two most important greenhouse gases. "
   ]
  },
  {
   "cell_type": "code",
   "execution_count": null,
   "metadata": {
    "collapsed": true
   },
   "outputs": [],
   "source": [
    "# Modify the following according to the instructions.\n",
    "co2 = 400\n",
    "h2o = 400\n",
    "ch4 = 2\n",
    "other = 1\n",
    "\n",
    "# Run a function that gets the radiance for your model atmosphere (do not modify)\n",
    "nu_my_atmosphere, radiance_my_atmosphere, my_legend = radtran.get_my_radiance(\n",
    "    co2, h2o, ch4, other, 0)\n",
    "\n",
    "# Plot the modified spectrum with the polar spectrum for comparison (no need to mofidy this)\n",
    "plt.figure()\n",
    "plt.plot(nu_polar, radiance_polar)\n",
    "plt.plot(nu_my_atmosphere, radiance_my_atmosphere, color='orange')\n",
    "plt.xlabel('wavenumber (cm$^{-1}$)')\n",
    "plt.ylabel('Radiance (mW / [m$^2$ sr$^{-1}$ cm$^{-1}$])')\n",
    "plt.legend(['Polar Winter', my_legend])\n",
    "plt.plot([450, 1800], [0, 0], 'k:')\n",
    "plt.xlim([450, 1800])\n",
    "plt.ylim([-5, 80])          \n"
   ]
  },
  {
   "cell_type": "markdown",
   "metadata": {},
   "source": [
    "Run the following cell to label the greenhouse gases in your plot above."
   ]
  },
  {
   "cell_type": "code",
   "execution_count": null,
   "metadata": {
    "collapsed": true
   },
   "outputs": [],
   "source": [
    "# Label the positions of gases in the current figure\n",
    "# (The labels will appear on the graph above)\n",
    "plt.text(510, 75, 'H$_2$O')  \n",
    "plt.text(660, 63, 'CO$_2$')    # Centered at 667 cm-1\n",
    "plt.text(1030, 15, 'O$_3$')    # Centered at 1042 cm-1\n",
    "plt.text(1240, 15, 'N$_2$O')   # Centered at 1285 cm-1\n",
    "plt.text(1280, 20, 'CH$_4$')   # Centered at 1311 cm-1\n",
    "plt.text(1550, 20, 'H$_2$O');  # Centered at 1595 cm-1\n",
    "plt.plot([1340, 1340, 1798, 1798], [16, 18, 18, 16], 'k')\n"
   ]
  },
  {
   "cell_type": "markdown",
   "metadata": {},
   "source": [
    "As you can see in the labelled figure above, the large band between 600 and 800 cm$^{-1}$ is due $CO_2$; this band is particularly important, as it is the primary mechanism by which $CO_2$ acts as a greenhouse gas. Another prominent feature, centered at 1042 cm$^{-1}$, is due to ozone ($O_3$). The spectrum also includes features due to $CH_4$, $N_2O$, and other greenhouse gases. Most of the other spectral features you can see are due to $H_2O$, which is a very strong emitter with many complicated, overlapping bands. \n",
    "\n",
    "<!--\n",
    "<p style ='text-align: center;'>\n",
    "<img src=\"http://webspace.pugetsound.edu/facultypages/nesh/Notebook/Downwelling spectrum 1.png\" height=\"700\" width=\"1000\"/> \n",
    "Figure 2. Downwelling IR radiance spectrum.\n",
    "</p>\n",
    "-->\n",
    "\n",
    "How do these spectral features arise? We can talk about $O_3$ as an example. At any given time, some ozone molecules are in a vibrationally excited state. Those molecules will eventually relax to the ground state, releasing in the process an IR photon. Note that the ozone feature appears as two humps, or an \"M\" shape. In a subsequent activity we will explore why rotational vibrational transitions give rise to this shape."
   ]
  },
  {
   "cell_type": "markdown",
   "metadata": {},
   "source": [
    "### Part 3. Comparison of polar and Oklahoma spectra"
   ]
  },
  {
   "cell_type": "markdown",
   "metadata": {},
   "source": [
    "While downwelling radiance spectra from anywhere on Earth are useful, spectra taken in polar regions are especially useful for revealing information about greenhouse gases other than water (e.g., $CO_2$, $O_3$, $CH_4$, and $N_2O$). Here, we'll examine that claim by comparing the polar winter downwelling radiance to summertime in Oklahoma. "
   ]
  },
  {
   "cell_type": "code",
   "execution_count": null,
   "metadata": {
    "collapsed": true
   },
   "outputs": [],
   "source": [
    "# Load in the Oklahoma data (do not modify)\n",
    "# (You should already have the file you need, sgp_aeri_20170706.000443.txt, in your directory).\n",
    "filename_oklahoma  = 'sgp_aeri_20170706.000443.txt' \n",
    "oklahoma_data = loadtxt(filename_oklahoma)\n",
    "nu_oklahoma = oklahoma_data[:,0]\n",
    "radiance_oklahoma = oklahoma_data[:,1]"
   ]
  },
  {
   "cell_type": "code",
   "execution_count": null,
   "metadata": {
    "collapsed": true
   },
   "outputs": [],
   "source": [
    "# Below is a function for labelling your plots. You do not need to modify it.\n",
    "def add_the_labels():\n",
    "    # Label it\n",
    "    plt.xlabel('wavenumber (cm$^{-1}$)')\n",
    "    plt.ylabel('Radiance (mW / [m$^2$ sr$^{-1}$ cm$^{-1}$])')\n",
    "\n",
    "    # Put a dotted line at zero\n",
    "    plt.plot([450, 1800], [0, 0], 'k:')    \n",
    "\n",
    "    # Zoom in on the interesting part\n",
    "    plt.xlim([500, 1800])\n",
    "    plt.ylim([-5, 215])          \n",
    "\n",
    "    # Label the gases for the Oklahoma spectrum\n",
    "    plt.text(900, 155, 'Mystery Gas')  \n",
    "    plt.text(540, 162, 'H$_2$O')  \n",
    "    plt.text(1550, 60, 'H$_2$O')    # Centered at 1595 cm-1\n",
    "    plt.text(667, 158, 'CO$_2$')    # Centered at 667 cm-1\n",
    "    plt.text(1030, 100, 'O$_3$')    # Centered at 1042 cm-1\n",
    "    plt.text(1240, 75, 'N$_2$O')    # Centered at 1285 cm-1\n",
    "    plt.text(1280, 65, 'CH$_4$')    # Centered at 1311 cm-1\n",
    "    plt.plot([772, 772, 1340, 1340], [145, 150, 150, 145], 'k')\n",
    "    plt.arrow(1042, 98, 0, -15, head_width=20, head_length=8, color='k') # O3 arrow\n",
    "    plt.plot([1340, 1340, 1798, 1798], [53, 58, 58, 53], 'k')\n",
    "\n"
   ]
  },
  {
   "cell_type": "code",
   "execution_count": null,
   "metadata": {
    "collapsed": true
   },
   "outputs": [],
   "source": [
    "# Plot the Polar vs Oklahoma spectrum\n",
    "fig = plt.figure(5)\n",
    "plt.plot(nu_oklahoma, radiance_oklahoma, 'g')\n",
    "plt.plot(nu_polar, radiance_polar, 'b')\n",
    "plt.legend(['Oklahoma Summer', 'Polar Winter'])\n",
    "add_the_labels()\n"
   ]
  },
  {
   "cell_type": "markdown",
   "metadata": {},
   "source": [
    "### Pause for Analysis: Polar vs. Oklahoma spectra\n",
    "\n",
    "1. Describe a few differences you notice between the Oklahoma vs. polar spectrum.  \n",
    "3. What do you think is causing these differences?  \n",
    "4. What is the mystery gas emitting between 800 and 1300 cm$^{-1}$ in the Oklahoma spectrum? Below you will discover the answer.  \n"
   ]
  },
  {
   "cell_type": "markdown",
   "metadata": {},
   "source": [
    "### Try your skill: Determine the identity of the mystery gas\n",
    "\n",
    "You probably guessed that temperature is much higher in the Oklahoma summer atmosphere than in the polar winter. In the cell below, you will discover the identity of the mystery gas. You will do this by modifying your model atmosphere to increase the radiance from looking like Polar Winter to looking like Oklahoma Summer.\n",
    "\n",
    "1. Run the cell below to remake the plot above and also include the spectrum for your model atmosphere.  \n",
    "2. Add 68 K to the model atmosphere temperature by setting dT to 68 and reruning the cell. What is the effect on the spectrum? What gases emit in regions where it now agrees with Oklahoma summer?\n",
    "3. Note that water vapor is responsible for the emission below 600 cm$^{-1}$. Increase the water vapor amount to bring your spectrum into agreement with Oklahoma summer in this spectral region. What happens to the rest of the spectrum? Modify the water vapor as needed to get the best agreement overall with the Oklahoma spectrum.\n",
    "4. You may have heard that warmer air holds more water. (You may also remember this from the Clausius-Clapeyron relation). Based on this, does this kind of change in water vapor for a change in temperature of 68 K make sense?\n",
    "5. What is the mystery gas?  What does this mean for its importance as a greenhouse gas?"
   ]
  },
  {
   "cell_type": "code",
   "execution_count": null,
   "metadata": {
    "collapsed": true
   },
   "outputs": [],
   "source": [
    "# Modify the following according to the instructions.\n",
    "co2 = 400\n",
    "h2o = 400\n",
    "ch4 = 2\n",
    "other = 1\n",
    "dT = 0\n",
    "\n",
    "# Run a function that gets the radiance for your model atmosphere (do not modify)\n",
    "nu_my_atmosphere, radiance_my_atmosphere, my_legend = radtran.get_my_radiance(\n",
    "    co2, h2o, ch4, other, dT)\n",
    "\n",
    "# Plot the spectrum for your atmosphere together with the Oklahoma and polar spectra\n",
    "# (no need to modify this)\n",
    "fig = plt.figure(6); plt.cla()\n",
    "plt.plot(nu_oklahoma, radiance_oklahoma, 'g')\n",
    "plt.plot(nu_polar, radiance_polar, 'b')\n",
    "plt.plot(nu_my_atmosphere, radiance_my_atmosphere, color='orange')\n",
    "plt.legend(['Oklahoma Summer', 'Polar Winter', my_legend])\n",
    "add_the_labels()\n"
   ]
  },
  {
   "cell_type": "markdown",
   "metadata": {},
   "source": [
    "### Part 4. Python skills you'll need"
   ]
  },
  {
   "cell_type": "markdown",
   "metadata": {},
   "source": [
    "The _arange_ command  \n",
    "Sometimes you need to lay out a range of values, like integers."
   ]
  },
  {
   "cell_type": "code",
   "execution_count": null,
   "metadata": {
    "collapsed": true
   },
   "outputs": [],
   "source": [
    "# Lay out a range of J-values from 0 to 4 at intervals of 1\n",
    "J = arange(0, 5, 1); print(J)\n",
    "\n",
    "# Lay out a range of J-values from 0 to 4 at intervals of 2\n",
    "# and print the result\n",
    "J = arange(0, 5, 2)\n",
    "print(J)"
   ]
  },
  {
   "cell_type": "markdown",
   "metadata": {},
   "source": [
    "### Try your skill: creating a range of values"
   ]
  },
  {
   "cell_type": "code",
   "execution_count": null,
   "metadata": {
    "collapsed": true
   },
   "outputs": [],
   "source": [
    "# Lay out a range of J-values from 1 to 19 at intervals of 2\n",
    "# and print the result\n"
   ]
  },
  {
   "cell_type": "markdown",
   "metadata": {},
   "source": [
    "Sometimes it is useful to zoom in on a region of the plot by changing the x-axis limits or the y-axis limits instead of using the tool on the plot. This can be done using The _xlim_ and _ylim_ commands. First, re-plot the polar spectrum."
   ]
  },
  {
   "cell_type": "code",
   "execution_count": null,
   "metadata": {
    "collapsed": true,
    "scrolled": false
   },
   "outputs": [],
   "source": [
    "# Plot and label the polar spectrum (nu_polar, radiance_polar)\n",
    "\n",
    "# Plot it\n",
    "plt.figure(7)\n",
    "\n",
    "# Label it\n",
    "plt.xlabel('wavenumber (cm$^{-1}$)')\n",
    "plt.ylabel('Radiance (mW / [m$^2$ sr$^{-1}$ cm$^{-1}$])')\n"
   ]
  },
  {
   "cell_type": "markdown",
   "metadata": {},
   "source": [
    "Next, re-scale the axes to zoom in on the ozone. You should be able to see the M-shape clearly."
   ]
  },
  {
   "cell_type": "code",
   "execution_count": null,
   "metadata": {
    "collapsed": true
   },
   "outputs": [],
   "source": [
    "# Rescale axes\n",
    "plt.xlim([984, 1083])\n",
    "plt.ylim([0, 13])"
   ]
  },
  {
   "cell_type": "markdown",
   "metadata": {},
   "source": [
    "### Try your skill: rescale figure axes\n",
    "\n",
    "There is another M-shaped band, very faint, in the spectrum from 930 $cm^{-1}$ to 990 $cm^{-1}$. See if you can re-scale the axes to identify the wavenumber of the two peaks of the \"M\", and its center."
   ]
  },
  {
   "cell_type": "code",
   "execution_count": null,
   "metadata": {
    "collapsed": true
   },
   "outputs": [],
   "source": [
    "# Rescale axes\n"
   ]
  },
  {
   "cell_type": "markdown",
   "metadata": {},
   "source": [
    "### Post-activity reflection\n",
    "1. What are the two main reasons for the differences between the Oklahoma and Polar spectra?  \n",
    "2. What are the most important greenhouse gases and why?  \n",
    "3. The emission features in these spectra are due to ro-vibrational transitions. For the weaker emission features, what is the typical shape? "
   ]
  },
  {
   "cell_type": "markdown",
   "metadata": {},
   "source": [
    "In the next module you will learn why emission features often have this shape."
   ]
  }
 ],
 "metadata": {
  "kernelspec": {
   "display_name": "Python 3",
   "language": "python",
   "name": "python3"
  },
  "language_info": {
   "codemirror_mode": {
    "name": "ipython",
    "version": 3
   },
   "file_extension": ".py",
   "mimetype": "text/x-python",
   "name": "python",
   "nbconvert_exporter": "python",
   "pygments_lexer": "ipython3",
   "version": "3.6.7"
  }
 },
 "nbformat": 4,
 "nbformat_minor": 1
}
