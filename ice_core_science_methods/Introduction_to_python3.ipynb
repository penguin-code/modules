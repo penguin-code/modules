{
 "cells": [
  {
   "cell_type": "markdown",
   "metadata": {},
   "source": [
    "### Computational Guided Inquiry for PChem (Neshyba, Sevier, & Fox-Dobbs, 2019)\n",
    "\n",
    "# Getting Started in Python\n",
    "\n",
    "## Objective: Learn basics of Python programming ##\n"
   ]
  },
  {
   "cell_type": "markdown",
   "metadata": {},
   "source": [
    "## Activities:\n",
    "\n",
    "Read the Introduction below, and do the following exercises."
   ]
  },
  {
   "cell_type": "markdown",
   "metadata": {},
   "source": [
    "## Introduction\n",
    "\n",
    "Python is a widely used, open source programming language developed by Guido van Rossum. It was first released in 1991. Python is a great language for beginner programmers because it was designed with the newcomer in mind. Python was designed to be readable and it has a simple and consistent syntax. Additionally, Python has a very extensive section of mathematical and scientific libraries. These libraries contain code that has already been written to perform specific tasks so you just need to know how to call the library rather than write the code itself. Lastly, Python is free.\n",
    "\n",
    "\n",
    "Here, the basic plan is for you to get used to some of the basics of python usage: how to use it as a fancy calculator, how to make simple plots, and how to debug when you get an error.\n"
   ]
  },
  {
   "cell_type": "markdown",
   "metadata": {},
   "source": [
    "## In-class activities  \n",
    "On some computers, you'll need to bring in the libraries for numerical operations and graphics. That's what the next cell does. Click in the next two boxes, and press shift-enter to execute each one."
   ]
  },
  {
   "cell_type": "code",
   "execution_count": null,
   "metadata": {
    "collapsed": true
   },
   "outputs": [],
   "source": [
    "# Bring in numpy(for numerical operations) and matplotlib.pyplot (for graphics)\n",
    "from numpy import *\n",
    "from matplotlib.pyplot import *"
   ]
  },
  {
   "cell_type": "code",
   "execution_count": null,
   "metadata": {
    "collapsed": true
   },
   "outputs": [],
   "source": [
    "%matplotlib notebook"
   ]
  },
  {
   "cell_type": "markdown",
   "metadata": {},
   "source": [
    "The first program that many people learn to write is a \"Hello, world!\" program. The purpose of this program is to get your program to output the phrase Hello, world! The code cell below contains the code to successfully run such a program in Python. Execute this cell by pressing shift-enter (just like before)."
   ]
  },
  {
   "cell_type": "code",
   "execution_count": null,
   "metadata": {
    "collapsed": true
   },
   "outputs": [],
   "source": [
    "print(\"Hello, world!\")"
   ]
  },
  {
   "cell_type": "markdown",
   "metadata": {},
   "source": [
    "As you can see, in Python printing is a relatively simple task. We wanted to print a statement (Hello, world!) and we only needed to type the word print and then put the phrase in quotation marks. The quotation marks are how you make a <em>string</em> in Python. A string is text data as opposed to numerical data.  \n",
    "\n",
    "Use the code cell below to output the following two statements (remember you need to make the text a string):  \n",
    "\n",
    "My name is ....  (Make sure to actually put in your first and last names)  \n",
    "\n",
    "I am excited to learn Python! "
   ]
  },
  {
   "cell_type": "code",
   "execution_count": null,
   "metadata": {
    "collapsed": true
   },
   "outputs": [],
   "source": []
  },
  {
   "cell_type": "markdown",
   "metadata": {},
   "source": [
    "As mentioned above, strings are the data type used for text. When we want to work with numbers, we will use either integers or floating point numbers. Integers are whole numbers. Floating point numbers that have a decimal point. We can easily perform the 4 basic mathematical operations using Python. "
   ]
  },
  {
   "cell_type": "code",
   "execution_count": null,
   "metadata": {
    "collapsed": true
   },
   "outputs": [],
   "source": [
    "# Addition\n",
    "print(5 + 10) #integer\n",
    "print(5.0 + 10.0) #floating point"
   ]
  },
  {
   "cell_type": "markdown",
   "metadata": {},
   "source": [
    "A few things to note about the cell above: \n",
    "<br>\n",
    "<br>\n",
    "1) We have used the pound symbol (#) a few times in the cell. This symbol is used to indicate a _comment_. Comments are used to make your code easier to read and understand, but otherwise they don't do anything. We placed the comment Addition at the top so that you knew we would be performing that operation in that cell. We have also annotated the next two lines to indicate that we were adding integers and floating point numbers in the 2nd and 3rd lines. \n",
    "<br>\n",
    "<br>\n",
    "2) We got two different answers when using integer and floating point data types. When we summed the two integers 5 and 10, we got 15. When we summed the two floating point numbers 5.0 and 10.0, we got 15.0. Python will output integers as if you perform a mathematical operation on only integers. Python will output floating point numbers if you have at least one floating point number in your calculation.\n",
    "<br>\n",
    "<br>\n",
    "3) We placed a space before and after the plus signs. I would get the exact same answers if the spaces weren't there, but the extra spaces help with code readability.\n",
    "\n",
    "Run the three cells below and see what happens."
   ]
  },
  {
   "cell_type": "code",
   "execution_count": null,
   "metadata": {
    "collapsed": true
   },
   "outputs": [],
   "source": [
    "#Subtraction\n",
    "print(10 - 5)"
   ]
  },
  {
   "cell_type": "code",
   "execution_count": null,
   "metadata": {
    "collapsed": true
   },
   "outputs": [],
   "source": [
    "#Multiplication\n",
    "print(5 * 9)"
   ]
  },
  {
   "cell_type": "code",
   "execution_count": null,
   "metadata": {
    "collapsed": true
   },
   "outputs": [],
   "source": [
    "#Division\n",
    "print(5 / 2)"
   ]
  },
  {
   "cell_type": "markdown",
   "metadata": {},
   "source": [
    "It should be noted that Python follows the standard order of operations that you are probably familiar with. So be careful when writing equations with multiple steps. For instance, in the example below, you might anticipate that the following equations all do the same thing, but they don't. Can you explain why?"
   ]
  },
  {
   "cell_type": "code",
   "execution_count": null,
   "metadata": {
    "collapsed": true
   },
   "outputs": [],
   "source": [
    "print(9.0 * 8.0 - 13.0)\n",
    "print(9.0 * (8.0 - 13.0))\n",
    "print(8.0 - 13.0 * 9)\n",
    "print((8.0 - 13.0) * 9)"
   ]
  },
  {
   "cell_type": "markdown",
   "metadata": {},
   "source": [
    "In the following cell calculate the following: $\\dfrac{3.0}{5.0}-\\left(\\dfrac{19.0}{20.0}\\times4\\right)$. Check with a neighbor to see if you got the same thing."
   ]
  },
  {
   "cell_type": "code",
   "execution_count": null,
   "metadata": {
    "collapsed": true
   },
   "outputs": [],
   "source": [
    "\n"
   ]
  },
  {
   "cell_type": "markdown",
   "metadata": {},
   "source": [
    "We can also use exponents quite easily, although the syntax might be different from what you are used to."
   ]
  },
  {
   "cell_type": "code",
   "execution_count": null,
   "metadata": {
    "collapsed": true
   },
   "outputs": [],
   "source": [
    "print(5**2) #Double asterisks (*) are used to represent an exponent, so this is 5*5"
   ]
  },
  {
   "cell_type": "markdown",
   "metadata": {},
   "source": [
    "Python can also make use of variables for computation. A variable can be as many characters long as you want; they can be as simple as single letters, like x or y, or as long as complicated phrases like this_is_my_variable. Variables cannot have spaces in their names. Variables are also case-sensitive, so x is a different variable than X. There are a number of words, such as print, that Python has reserved for special purposes; you cannot name your variable any of these reserved words. You will know you have typed a reserved word because it will appear green in your Notebook. Once a variable is assigned a value, it retains that value throughout a session until it is changed, thus you can use it in other cells."
   ]
  },
  {
   "cell_type": "code",
   "execution_count": null,
   "metadata": {
    "collapsed": true
   },
   "outputs": [],
   "source": [
    "x = 5\n",
    "X = 10\n",
    "print(x, X) #I can print two separate things by separating them by a comma"
   ]
  },
  {
   "cell_type": "markdown",
   "metadata": {},
   "source": [
    "These variables are called \"scalars\" because there is just one value associated with them. Here are some more scalars: "
   ]
  },
  {
   "cell_type": "code",
   "execution_count": null,
   "metadata": {
    "collapsed": true
   },
   "outputs": [],
   "source": [
    "apples = 10\n",
    "bananas = 8\n",
    "total_fruit = apples + bananas\n",
    "\n",
    "print(\"There are\", total_fruit, \"pieces of fruit in the basket.\")"
   ]
  },
  {
   "cell_type": "markdown",
   "metadata": {},
   "source": [
    "As can be seen above, you can print strings and the values of variables together in a single line. As a reminder, when you use print with a string you will get the exact text back from Python, when you use print with a variable you will get the value of that variable.  \n",
    "\n",
    "In the cell below you should write a code that calculates the average height in inches of you and one other person in the class. To do this we would like you to create three variables, two for each of the heights and one for the average. To display your average we would like you to print a statement that reports the average height in a grammatically correct sentence.  \n",
    "\n",
    "By the way, five feet = 60 inches, six feet = 72 inches."
   ]
  },
  {
   "cell_type": "code",
   "execution_count": null,
   "metadata": {
    "collapsed": true
   },
   "outputs": [],
   "source": [
    "# Specify your height, as a variable (e.g., me=71.0)\n",
    "\n",
    "# Now specify somebody else's height, also as a variable (e.g., friend=66.0)\n",
    "\n",
    "# Now get the average as a third variable\n",
    "\n",
    "# And print the third variable in a sentence, like the cell above.\n"
   ]
  },
  {
   "cell_type": "markdown",
   "metadata": {},
   "source": [
    "So far we have discussed variables just having a single value, but often times we want to repeatedly perform a calculation on an array of numbers. Suppose we wanted to cover the range $x = -5$ to $x = 5$, and we're interested in what $x^2$ looks like. In Python, we'd first lay out an array of numbers $x$ using the \"linspace\" function. Then we'd print $x^2$."
   ]
  },
  {
   "cell_type": "code",
   "execution_count": null,
   "metadata": {
    "collapsed": true
   },
   "outputs": [],
   "source": [
    "# Generate an array (sequence of points) between -5 and 5, with 11 numbers altogether.\n",
    "x = linspace(-5,5,11)\n",
    "print(x)\n",
    "y = x**2\n",
    "print(y)"
   ]
  },
  {
   "cell_type": "markdown",
   "metadata": {},
   "source": [
    "Try your skill! Create an array called $X$ (note this will be a different variable from $x$), ranging from -10 to 10, containing 21 values. Print $X$. Then create a new variable, $Y$, which equals $X^3$, and print it too."
   ]
  },
  {
   "cell_type": "code",
   "execution_count": null,
   "metadata": {
    "collapsed": true
   },
   "outputs": [],
   "source": []
  },
  {
   "cell_type": "markdown",
   "metadata": {},
   "source": [
    "#### Pause for Analysis: Explain the difference between an array and a scalar, with examples from this tutorial."
   ]
  },
  {
   "cell_type": "markdown",
   "metadata": {},
   "source": [
    "Now, let's make a plot. The example below shows how to plot plot $x^2$ as a function of $x$."
   ]
  },
  {
   "cell_type": "code",
   "execution_count": null,
   "metadata": {
    "collapsed": true
   },
   "outputs": [],
   "source": [
    "# This initializes the plot window\n",
    "figure()\n",
    "\n",
    "# This plots the array y (which equals x^2) as a function of x\n",
    "plot(x,y)\n",
    "\n",
    "# For cosmetic purposes, put labels on the x- and y-axes\n",
    "xlabel('x')\n",
    "ylabel('x^2')"
   ]
  },
  {
   "cell_type": "markdown",
   "metadata": {},
   "source": [
    "Test you skill! Make a plot of $Y$ (which should equal $X^3$) as a function of X."
   ]
  },
  {
   "cell_type": "code",
   "execution_count": null,
   "metadata": {
    "collapsed": true
   },
   "outputs": [],
   "source": []
  },
  {
   "cell_type": "markdown",
   "metadata": {},
   "source": [
    "The last topic we will cover are error messages. Perhaps you have already encountered these above. If you haven't already, you will at some point in the course. Everyone makes mistakes while programming. The key is to learn how to understand the error messages that Python gives and use that information to fix your code. The cells below each contain at least one error. Run them first as they are written to see the error message and then go back and fix the cell."
   ]
  },
  {
   "cell_type": "code",
   "execution_count": null,
   "metadata": {
    "collapsed": true
   },
   "outputs": [],
   "source": [
    "j = i**2\n",
    "i = linspace(-3,3)"
   ]
  },
  {
   "cell_type": "code",
   "execution_count": null,
   "metadata": {
    "collapsed": true
   },
   "outputs": [],
   "source": [
    "print(I am so glad I am learning to program using Python.)"
   ]
  },
  {
   "cell_type": "code",
   "execution_count": null,
   "metadata": {
    "collapsed": true
   },
   "outputs": [],
   "source": [
    "a = 3\n",
    "b = -4\n",
    "x = linspace(0,1.5)\n",
    "f_x = a*bx\n",
    "figure()\n",
    "plot(x,f_x)"
   ]
  },
  {
   "cell_type": "code",
   "execution_count": null,
   "metadata": {
    "collapsed": true
   },
   "outputs": [],
   "source": [
    "n = linespace(-3,3)\n",
    "m = n**2\n",
    "figure()\n",
    "plot(N,M)"
   ]
  },
  {
   "cell_type": "markdown",
   "metadata": {},
   "source": [
    "## Post-class reflection:  \n",
    "\n",
    "On a separate sheet of paper to hand in, write a brief definition of the functions <em>print, linspace, plot, xlabel, and ylabel</em>, and give examples with proper python syntax. Also write down your responses in the \"pause for analysis\" section. We will be looking for evidence of thoughtful engagement in these entries.\n",
    "\n",
    "We'll also be looking at your python notebook (the .ipynb file) on the CGI server. We'll be looking for evidence of your mastery of the computational methods embedded in the exercise: whether the notebook is complete and your results accurate.\n"
   ]
  }
 ],
 "metadata": {
  "kernelspec": {
   "display_name": "Python 3",
   "language": "python",
   "name": "python3"
  },
  "language_info": {
   "codemirror_mode": {
    "name": "ipython",
    "version": 3
   },
   "file_extension": ".py",
   "mimetype": "text/x-python",
   "name": "python",
   "nbconvert_exporter": "python",
   "pygments_lexer": "ipython3",
   "version": "3.6.7"
  }
 },
 "nbformat": 4,
 "nbformat_minor": 1
}
