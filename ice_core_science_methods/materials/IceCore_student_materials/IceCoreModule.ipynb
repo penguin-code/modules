{
 "cells": [
  {
   "cell_type": "markdown",
   "metadata": {},
   "source": [
    "## Computational Guided Inquiry for Polar Research  \n",
    "\n",
    "## Ice Cores and Climate Change\n",
    "\n",
    "### Learning Objectives  \n",
    "1. Understand how ice cores record past temperature.\n",
    "2. Learn how download and interpret ice core data.\n",
    "3. Recognize Milankovitch Cycles, Dansgaard Oeschger Events, and glacial interglacial periods in ice core data.\n",
    "4. Understand the nature of correlations between $CO_2$ and temperature in the past million years.\n",
    "\n",
    "### Pre-class activities\n",
    "\n",
    "1. Read the Introduction. \n",
    "2. Watch video _Ice Core Secrets Could Reveal Answers to Global Warming_ from Science Nation: https://www.youtube.com/watch?v=NENZ6TSc1fo\n",
    "3. Watch video, _Ice Core Record of Climate_, from NOVA: https://kcts9.pbslearningmedia.org/resource/nvei.sci.earth.climate/ice-core-record-of-climate/#.WvssFK3MxPM\n",
    "4. Check out the article _Ice Cores and Climate Change_ from the British Antarctic Survey: https://www.bas.ac.uk/wp-content/uploads/2014/03/Ice-cores-and-climate-change_Feb14.pdf\n",
    "5. On a separate piece of paper, define the following terms in your own words: _climate proxy_, _stable isotope_, _Milankovitch Cycles_, _Dansgaard Oeschger events_.\n"
   ]
  },
  {
   "cell_type": "markdown",
   "metadata": {},
   "source": [
    "### Introduction\n",
    "\n",
    "_Ice Cores as a Proxy_ \n",
    "\n",
    "Climate proxies are preserved physical characteristics of earth history which directly represent meteorological measurements. Ice, for example, allows us to observe past snow accumulation, air temperature, and air quality. Ice cores serve as recorders of past climate and atmospheric concentration. Much like rock strata, snow accumulates onto ice sheets providing a record of past environmental conditions which can be measured moving deeper through layers of the core. Shallow ice cores are typically 100-200 m. depth whereas deeper cores can range up to 3000 m. Though ice cores can be taken all over the world, ice cores in polar regions, namely Antarctica and Greenland, provide the best resolution due to relatively stable temperatures and high rates of snow accumulation which best preserve isotopic and atmospheric data. Today, we will work with data from ice cores taken from the East Antarctic Ice Sheet and Greenland, namely Dome C, Dome Fuji, and GRIP cores as well as a composite deep time record in order to explore earth's past climate and glacial cycles. \n",
    "\n",
    "Let's explore a map of the East Antarctic Ice Sheet and Greenland from the National Snow and Ice Data Center. \n",
    "Go to: http://nsidc.org/data/atlas/news/ice_core_additions.html Determine the location of the Dome Fuji and GRIP cores. \n",
    "\n",
    "_Stable Isotopes_\n",
    "\n",
    "Stable isotopes are integrators and recorders of biogeochemical signals. Isotopes are atoms which contain the same number of protons and a different number of neutrons. Stable isotopes, unlike radiogenic isotopes do not decay, and their concentrations can be used to determine environmental conditions. Stable isotopes are reported as a ratio of heavy to light isotopes relative to a standard known as delta notation ($\\delta$). In ice cores, $\\delta  ^{18}O$ stable isotopes can be used as a proxy for temperature. For example, snow falls over Antarctica and is converted to ice, preserving $\\delta  ^{18}O$ values within different depths of an ice sheet. Generally, periods of evaporation result in vapor that is depleted in $\\delta  ^{18}O$ whereas condensation results in precipitation that is enriched in $\\delta  ^{18}O$. Therefore, periods of glaciation are associated with more negative $\\delta$ values and periods of warming are associated with greater $\\delta$ values. With this knowledge, we can interpret changes in temperature from the ice core record using $\\delta  ^{18}O$ as a proxy. \n",
    "\n",
    "Equation:  \n",
    "$T={{13.7 + \\delta  ^{18}O}\\over {0.67}} \\quad (1) $  \n",
    "\n",
    "_Past Greenhouse Gases_\n",
    "\n",
    "Ice cores also contain gas bubbles which directly sample the atmosphere at a given period of time. This provides thorough records of $CO_2$, methane, and nitrous oxide concentrations at given points in earth's history. We will explore chronologies of $CO_2$ emissions in the ice core record and its relevance to temperature. \n",
    "\n",
    "_Global Climate Cycles_ \n",
    "\n",
    "_Milankovitch Cycles_  Over geologic time (millions of years), earth's temperature has oscillated between warm and cold periods. Typically our planet experiences rapid periods of warming (between 10,000 and 20,000 years) and relatively long, stable periods of cooling (between 90,000 and 100,000 years). These fluctuations in global climate are owed to Milankovitch cycles which are produced from changes in the earth's pattern of orbit, axial tilt, and wobble. _Eccentricity_ is an elliptical change in the earth’s orbit around the sun which occurs every 100,000 years. When the earth’s orbit is more elliptical, the earth spends less time close to the sun in the span of a single year, indicating global cooling. _Axial Tilt_ is another process associated with Milankovitch cycles which occurs on a 41,000-year timescale. There is a change in the tilt of the earth’s axis, termed obliquity, of approximately 2.5°. Increased obliquity typically causes summers to be warmer and winters to be colder. _Wobble_ is the final climate process associated with Milankovitch Cycles and occurs every 26,000 years. This wobble is caused by tidal forces and impacts the northern and southern hemisphere differently. The hemisphere closes to the sun will enjoy warmer summers and cooler winters. Currently, our planet is in a warm period, following the Last Glacial Maximum approximately 12,000 years ago. \n",
    "\n",
    "_Dansgaard Oeschger Events_ (DO) are smaller climate fluctuations which occur within larger glacial cycles. This process relates to ocean circulation and affects the northern and southern hemispheres differently. For example, while the northern hemisphere experiences rapid warming over a few decades followed by a longer period of cooling, the southern hemisphere experiences much slower warming and changes in temperature fluctuation. These processes are mediated by global ocean circulation. Ice core records from Antarctica and Greenland reveal that there is a lag time between DO events in the northern hemisphere and the southern hemisphere, likely attributed to oceanic and atmospheric circulation."
   ]
  },
  {
   "cell_type": "code",
   "execution_count": null,
   "metadata": {
    "collapsed": true
   },
   "outputs": [],
   "source": [
    "# First we have to get some resources\n",
    "from numpy import *\n",
    "from matplotlib.pyplot import *\n",
    "import matplotlib.image as mpimg\n",
    "%matplotlib notebook"
   ]
  },
  {
   "cell_type": "markdown",
   "metadata": {},
   "source": [
    "### Part 1. Downloading ice core data\n",
    "\n",
    "Much of the ice core data used in this exercise was downloaded from the NOAA Paleoclimatology data archive website. This archive makes ice core datasets and other paleoproxy records publically available. Here you will download and examine some ice core data of the $CO_2$ record. Follow these steps:\n",
    "\n",
    "1. Click on the NOAA website link: https://www.ncdc.noaa.gov/paleo-search/reports/location?dataTypeId=7&search=true.\n",
    "2. Scroll down to the collapsible data and click the plus signs to see locations where ice core data exists.\n",
    "3. Click on Antarctica and then scroll down and click on the EPICA Dome C - 800KYr CO2 Data \n",
    "4. Under \"Download Data\" click \"edc-co2-2008.txt\" to download the data. Read the abstract, then answer questions about this data in the pause for analysis below. \n",
    "5. This data is from Dome C. Find Dome C on Google Maps. Be sure to click the satellite view. Later, we'll look at data from Greenland, so while you're in Google Maps, find Greenland.\n"
   ]
  },
  {
   "cell_type": "markdown",
   "metadata": {},
   "source": [
    "### Pause for Analysis\n",
    "\n",
    "1. Scroll down past the abstract to where columns of data for analysis by the University of Bern. What are the first three columns of the data?\n",
    "4. What are the units of depth?\n",
    "2. What are the units of \"age?\"\n",
    "3. What are the units of $CO_2$? (Note: parts per million by volume, or ppmv, means the number of $CO_2$ molecules per million other molecules in the air.)\n",
    "4. Look at the first row of the data: this represents the top of the ice core, which would have been closest to the surface. Thus it is the \"youngest\" part of the ice core. How many years before present is this measurement for? At what depth was it measured? What was the CO2 amount? \n",
    "5. How does this compare to the preindustrial value of 280 ppmv and the present value of 411 ppmv? \n"
   ]
  },
  {
   "cell_type": "markdown",
   "metadata": {},
   "source": [
    "### Part 2. Greenland temperature record and Dansgaard Oeschger (DO) events"
   ]
  },
  {
   "cell_type": "markdown",
   "metadata": {},
   "source": [
    "In Part 1 we looked at some data from ice cores that included depth, age, and $CO_2$. The $CO_2$ was trapped in the air bubbles in the ice core. The ice itself contains a record of $\\delta  ^{18}O$, a proxy for temperature.\n",
    "\n",
    "Here we will examine a $\\delta  ^{18}O$  record preserved in an ice core from Greenland, in the Arctic. The Greenland Ice Core project, or GRIP, represents a drilling project by the European Science Foundation between 1989 and 1995. The dataset below represents a 40,000 year temperature chronology determined from $\\delta ^{18}0$ data. First, we will load and plot the Greenland ice core data. Later we will convert $\\delta ^{18}0$ values directly to temperature. \n"
   ]
  },
  {
   "cell_type": "code",
   "execution_count": null,
   "metadata": {},
   "outputs": [],
   "source": [
    "# Load Greenland ice core data \n",
    "greenland_ice_core_data = genfromtxt(\"grip.txt\", skip_header=177, usecols=(0,1,2), encoding = \"ISO-8859-1\") \n",
    "print(shape(greenland_ice_core_data))"
   ]
  },
  {
   "cell_type": "markdown",
   "metadata": {},
   "source": [
    "The print(shape(age_Arctic = greenland_ice_core_data[:,1])) command above shows that there are 1603 rows and 3 columns. We are interested in   \n",
    "\n",
    "column 1: age in years before present, and  \n",
    "column 2: $\\delta ^{18}$O. \n",
    "\n",
    "Below, we create two new variables and assign them the values from these columns so we can plot them."
   ]
  },
  {
   "cell_type": "code",
   "execution_count": null,
   "metadata": {},
   "outputs": [],
   "source": [
    "# Here we create variables from columns of interest: age and delta18o\n",
    "# We give the variables descriptive names so we won't confuse them with\n",
    "# variables we create later.\n",
    "age_Greenland = greenland_ice_core_data[:,1]\n",
    "delta18o_Greenland = greenland_ice_core_data[:,2]"
   ]
  },
  {
   "cell_type": "markdown",
   "metadata": {},
   "source": [
    "Below we generate a plot of Greenland $\\delta^{18}O$ as a function of time. \n"
   ]
  },
  {
   "cell_type": "code",
   "execution_count": null,
   "metadata": {},
   "outputs": [],
   "source": [
    "# Here we create a figure, plot the delta18o as a function of age, and label the axes.\n",
    "figure(); gca().invert_xaxis()\n",
    "plot(age_Greenland, delta18o_Greenland)\n",
    "xlabel('Years before present')\n",
    "ylabel(\"$\\delta ^{18}$O\")"
   ]
  },
  {
   "cell_type": "markdown",
   "metadata": {},
   "source": [
    "### Pause for analysis\n",
    "This plot shows $\\delta^{18}$O amount with time. Note that the x-axis is years before the present. We plotted this so that the past is to the left (50,000 years ago) and time moves forward to the right. The plot ends 10,000 years before the present. Where would the present be? "
   ]
  },
  {
   "cell_type": "markdown",
   "metadata": {},
   "source": [
    "### Develop your computational skill: converting isotope data to temperature\n",
    "\n",
    "Let's explore the relationship between $\\delta^{18}O$ and temperature. Use _Equation 1_ in the introduction to calculate a temperature for the GRIP $\\delta ^{18}$O values."
   ]
  },
  {
   "cell_type": "code",
   "execution_count": null,
   "metadata": {
    "collapsed": true
   },
   "outputs": [],
   "source": [
    "# Convert to delta values to temperature using Equation 1.\n",
    "T = "
   ]
  },
  {
   "cell_type": "markdown",
   "metadata": {},
   "source": [
    "### Develop your plotting skill\n",
    "Here you will plot Greenland temperature as a function of time. Refer to the code above for plotting $\\delta^{18}O$ with time for help - feel free to copy and paste code as needed, but be sure to modify the names of the variables as needed.\n",
    "\n",
    "Read the comments in the cells below before executing them; you will need to finish the code as directed."
   ]
  },
  {
   "cell_type": "code",
   "execution_count": null,
   "metadata": {},
   "outputs": [],
   "source": [
    "# Graph temperature as a function of time for the ice core from Greenland in the Arctic.\n",
    "# Don't forget to label the x and y axis\n",
    "figure(); gca().invert_xaxis()\n"
   ]
  },
  {
   "cell_type": "markdown",
   "metadata": {},
   "source": [
    "### Pause for Analysis\n",
    "\n",
    "1. What is the range of temperatures recorded for this period? Does this seem like a reasonable range - keep in mind that the core is from Greenland. Look up the monthly temperature at Summit, Greenland here: http://www.summitcamp.org/status/weather/index?period=1month. (To put these temperatures into perspective, at 7 am this morning it was about -3 deg C here in Tacoma.)\n",
    "2. Recall that in a Dansgaard Oeschger (DO) event, the Arctic temperature first increases rapidly and then cools slowly. Find what you think could be a DO event in the plot and zoom in around it.\n",
    "3. By how much did it warm? How long did it take?\n",
    "4. Do you think this rate of warming was fast? What consequences do you think this plants, animals, and humans?\n",
    "4. How long did it take to cool back down again?\n",
    "\n"
   ]
  },
  {
   "cell_type": "markdown",
   "metadata": {},
   "source": [
    "### Part 3: Antarctic record and Milankovitch cycles\n",
    "\n",
    "In some regions, ice cores can provide records deep into the past, up to 2.7 million years. An ice core from Dome Fuji  in Antarctica, for example, provides a 720,000 year temperature chronology of the East Antarctic Ice Sheet. Here we will load $\\delta ^{18}O$ values and observe global climate fluctuations at different time resolutions from 100,000 years to 10,000 years."
   ]
  },
  {
   "cell_type": "code",
   "execution_count": null,
   "metadata": {},
   "outputs": [],
   "source": [
    "# Load the data\n",
    "antarctic_ice_core_data = genfromtxt(\"domefuji.txt\", skip_header=118, skip_footer=7655-7589, \n",
    "                                     usecols=(2,3), encoding = \"ISO-8859-1\") \n",
    "print(shape(antarctic_ice_core_data))"
   ]
  },
  {
   "cell_type": "code",
   "execution_count": null,
   "metadata": {
    "collapsed": true
   },
   "outputs": [],
   "source": [
    "# Assign the variables delta18o and age\n",
    "age_Antarctica = antarctic_ice_core_data[:,0]\n",
    "delt18_Antarctica = antarctic_ice_core_data[:,1]"
   ]
  },
  {
   "cell_type": "code",
   "execution_count": null,
   "metadata": {},
   "outputs": [],
   "source": [
    "# Plot the data. Be sure to label your axes\n",
    "figure(); gca().invert_xaxis()\n",
    "\n",
    "\n"
   ]
  },
  {
   "cell_type": "markdown",
   "metadata": {},
   "source": [
    "### Pause for Analysis\n",
    "1. Which is the most obvious climate oscillation pattern of Milankovitch evident here? (eccentricity, axial tilt, and wobble)?  \n",
    "2. Sketch this figure onto a separate sheet of paper and label the peaks corresponding to the climate oscillation pattern you identified above.  "
   ]
  },
  {
   "cell_type": "markdown",
   "metadata": {},
   "source": [
    "### Part 4. Relationship between temperature and $CO_2$\n",
    "\n",
    "Here we will explore the relationship between temperature and $CO_2$ in an ice core from Vostok, Antarctica, going back 425,000 years. We will then explore the relationship and potential feedbacks between $CO_2$ and temperature.\n",
    "\n",
    "For this we will look at a figure from the literature rather than loading in data. Fortunately you can display a figure in Python, as we do below."
   ]
  },
  {
   "cell_type": "code",
   "execution_count": null,
   "metadata": {},
   "outputs": [],
   "source": [
    "# Load record comparing co2 and temp.\n",
    "# Image courtesy of the National Oceanic and Atmospheric Administration\n",
    "img = mpimg.imread('co2.png')\n",
    "\n",
    "# Plot it\n",
    "fig = figure(figsize=[9.1,5.6])\n",
    "ax = fig.add_axes([0, 0, 1, 1])\n",
    "ax.set_axis_off()\n",
    "ax.imshow(img, aspect='auto')"
   ]
  },
  {
   "cell_type": "markdown",
   "metadata": {},
   "source": [
    "### Pause for Analysis\n",
    "\n",
    "1. Do you see a correlation between $CO_2$ and temperature? \n",
    "2. Which changes first, temperature or $CO_2$?\n",
    "3. Does this make sense? Give your reasoning why or why not and then read the following argument and rebuttal."
   ]
  },
  {
   "cell_type": "markdown",
   "metadata": {},
   "source": [
    "Argument: \"An article in Science magazine illustrated that a rise in carbon dioxide did not precede a rise in temperatures, but actually lagged behind temperature rises by 200 to 1000 years.  A rise in carbon dioxide levels could not have caused a rise in temperature if it followed the temperature.\"  \n",
    "-- Joe Barton, U.S. House of Representatives 1985 - 2019."
   ]
  },
  {
   "cell_type": "markdown",
   "metadata": {},
   "source": [
    "Rebuttal: \"This statement does not tell the whole story. The initial changes in temperature during this period are explained by changes in the Earth’s orbit around the sun, which affects the amount of seasonal sunlight reaching the Earth’s surface. In the case of warming, the lag between temperature and CO2 is explained as follows: as ocean temperatures rise, oceans release CO2 into the atmosphere. In turn, this release amplifies the warming trend, leading to yet more CO2 being released. In other words, increasing CO2 levels become both the cause and effect of further warming. This positive feedback is necessary to trigger the shifts between glacials and interglacials as the effect of orbital changes is too weak to cause such variation. Additional positive feedbacks which play an important role in this process include other greenhouse gases, and changes in ice sheet cover and vegetation patterns.\"  \n",
    "--https://skepticalscience.com/co2-lags-temperature.htm"
   ]
  },
  {
   "cell_type": "markdown",
   "metadata": {},
   "source": [
    "### Discussion prompts\n",
    "\n",
    "1. Restate/discuss in groups the above argument and rebuttal in your own words.\n",
    "2. Look up the $CO_2$ concentration in modern times (see https://www.esrl.noaa.gov/gmd/ccgg/trends/) and add the most current value to your printout of the plot above. \n",
    "3. As a class, we'll discuss how climate change in modern times differs from (and is similar to) the changes evident in that figure."
   ]
  }
 ],
 "metadata": {
  "kernelspec": {
   "display_name": "Python 3",
   "language": "python",
   "name": "python3"
  },
  "language_info": {
   "codemirror_mode": {
    "name": "ipython",
    "version": 3
   },
   "file_extension": ".py",
   "mimetype": "text/x-python",
   "name": "python",
   "nbconvert_exporter": "python",
   "pygments_lexer": "ipython3",
   "version": "3.6.7"
  }
 },
 "nbformat": 4,
 "nbformat_minor": 2
}
