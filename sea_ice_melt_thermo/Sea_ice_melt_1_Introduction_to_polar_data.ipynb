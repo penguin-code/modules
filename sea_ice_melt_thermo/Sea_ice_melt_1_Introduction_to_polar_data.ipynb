{
 "cells": [
  {
   "cell_type": "markdown",
   "metadata": {},
   "source": [
    "## Computational Guided Inquiry for Polar Research  \n",
    "\n",
    "## Seasonal Arctic ice  melt - 1. Introduction to polar data\n",
    "\n",
    "### Learning Objectives  \n",
    "1. Learn about datasets available for Arctic sea ice volume and extent\n",
    "2. Develop skills in acquiring and plotting information in these datasets using python\n",
    "\n",
    "### Pre-class activities\n",
    "\n",
    "1. Read the Introduction\n",
    "2. In your notebook, write definitions of the terms _polar amplification_, _ice-albedo feedback_, _sea ice volume_, and _sea ice extent_.\n"
   ]
  },
  {
   "cell_type": "markdown",
   "metadata": {},
   "source": [
    "## Introduction\n",
    "\n",
    "_Why study climate change in a Thermodynamics course?_  \n",
    "There is a broad scientific consensus that emission of fossil fuels by humans is leading to climate change. However, the climate is extremely complicated and understanding climate requires an interdisciplinary effort, with chemistry a key contributor. In this CGI module we will develop chemical ideas, such as the thermodynamics of phase transitions, to help us understand some of the mechanisms of climate change."
   ]
  },
  {
   "cell_type": "markdown",
   "metadata": {},
   "source": [
    "_Climate connection_  \n",
    "Human activity has changed the composition of the atmosphere in such a way that the temperature of the planet has increased. Polar regions have undergone greater increases in temperature than midlatitudes, a phenomenon called _polar amplification_. Recent research has also shown that this amplified warming has a significant impact on weather at lower latitudes, causing severe episodes of drought and heavy rainfall in North America and Asia.\n",
    "\n",
    "_Polar connection_  \n",
    "Some of the most difficult observations to collect are in the harsh, remote environments of the polar regions. Yet polar observations are crucial because the unique conditions of polar regions lead to amplification of climate change, a phenomenon called _polar amplification_. Polar ampification, in turn, is largely due to a phenomenon called _ice-albedo feedback_, in which ice and snow, which have a high _albedo_ (they efficiently reflect the sun's rays away from the earth's surface), melt to form melt ponds, which have a low albedo (melt ponds absorb  solar radiation quite well). That, in turn,  warms the surface a little more, which causes more melting, and so on: a _positive feedback_. \n",
    "\n",
    "All this means that sea ice extent in polar regions is an excellent indicator of climate changes resulting from human activity. To that end, climate scientists have taken careful measurements of the seasonal melting and freezing of ice in polar regions, as well as trends in that melting and freezing from year to year. Here, you will examine some of these datasets. "
   ]
  },
  {
   "cell_type": "markdown",
   "metadata": {},
   "source": [
    "_Sea ice volume and extent_  \n",
    "Sea ice _volume_ is the total volume of sea ice at any given time, usually for a given region. As Fig. 1 shows, sea ice volume varies a lot over a season. During the Arctic winter, because the sun is down 24 hours a day, ice volume steadily builds up. In the spring, the sun  rises high enough in the sky to initiate the melting season.  Melting continues until September, when cold once again sets in, and ice volume begins to increase.\n",
    "\n",
    "<p style ='text-align: center;'>\n",
    "<img src=\"http://psc.apl.uw.edu/wordpress/wp-content/uploads/schweiger/ice_volume/BPIOMASIceVolumeAnomalyCurrentV2.1_CY.png\" height=\"300\" width=\"400\"/> \n",
    "Figure 1. Seasonal variation of Arctic sea ice volume. From Pan-Arctic Ice Ocean Modeling and Assimilation System (PIOMAS) daily arctic ice volume. (From Pan-Arctic Ice Ocean Modeling and Assimilation System (PIOMAS) daily arctic ice volume. Image courtesy of A. Schweiger of the Applied Physics Lab / Polar Science Center).\n",
    "</p>  \n",
    "\n",
    "Sea ice _extent_ refers to the area covered by sea ice. Sea ice extent varies a lot over a season too, as shown in Figure 2. \n",
    "\n",
    "<p style ='text-align: center;'>\n",
    "<img src=\"https://ads.nipr.ac.jp/vishop/graph/Sea_Ice_Extent_N_prev_v2.png\" height=\"400\" width=\"400\"/>  \n",
    "Figure 2. Arctic sea ice extent. (This image is archived and provided by Arctic Data archive System (ADS), which was developed by National Institute of Polar Research, NIPR.)\n",
    "</p>\n",
    "\n",
    "One question for climate scientists concerns _how_ Arctic ice melts seasonally. Is more volume lost at the edges, or through thinning of the entire ice cover? It turns out that if you know sea ice volume _and_ extent, then you can also estimate the _thickness_ of the ice. This follows from simple dimensional analysis: volume has dimension $distance^3$, while extent has dimension $distance^2$. So the ratio between them tells you about the thickness.\n",
    "\n",
    "In this CGI, you'll look at some Arctic sea ice data and try to come up with an answer to this question. In doing so, you'll develop familiarity with the seasonal and year-to-year patterns of sea ice growth and melt, as well as skill at visualizing and analyzing the available data. "
   ]
  },
  {
   "cell_type": "markdown",
   "metadata": {},
   "source": [
    "### Part I. Viewing the seasonal cycle of polar sea ice"
   ]
  },
  {
   "cell_type": "markdown",
   "metadata": {},
   "source": [
    "Here you will use the Sea Ice Animation Tool provided by the National Snow and Ice Data Center (NSIDC) to watch the seasonal cycles of polar sea ice. These images are created using a satellite microwave sensor.\n",
    "\n",
    "1) Go to the website https://nsidc.org/data/.  \n",
    "2) The third column says, \"Data For Everyone.\" In that column, choose \"Sea Ice Index.\"  \n",
    "3) You will see a map of the Arctic. Under \"Arctic\" at the top, click on \"Animate Monthly Images.\"  \n",
    "4) Select any year as the start year and play the movie to see the sea ice extent change over the course of a year.  \n",
    "5) Repeat the above for the Antarctic by selecting \"Southern\" for Hemisphere. "
   ]
  },
  {
   "cell_type": "markdown",
   "metadata": {},
   "source": [
    "### Pause for analysis\n",
    "1. In what month is the sea ice extent at a maximum in the Arctic? a minimum? How does this compare to the Antarctic?  \n",
    "1. Looking back on Figures 1 and 2, do you notice any year-to-year trends in the maximum or minimum of Arctic sea ice volume or extent?"
   ]
  },
  {
   "cell_type": "markdown",
   "metadata": {},
   "source": [
    "### Part II. Retrieving and plotting Arctic sea  ice data"
   ]
  },
  {
   "cell_type": "code",
   "execution_count": null,
   "metadata": {
    "collapsed": true
   },
   "outputs": [],
   "source": [
    "# Load packages that we will need\n",
    "from numpy import *\n",
    "from matplotlib.pyplot import *\n",
    "from mpl_toolkits.mplot3d import axes3d"
   ]
  },
  {
   "cell_type": "code",
   "execution_count": null,
   "metadata": {
    "collapsed": true
   },
   "outputs": [],
   "source": [
    "%matplotlib notebook"
   ]
  },
  {
   "cell_type": "markdown",
   "metadata": {},
   "source": [
    "In the following cell, we want to use the np.arange command to create an array of months, from 1 (January) to 12 (December). But it doesn't give the right range! It's a python syntax thing .... Fix the cell below to produce an array of numbers from 1 to 12."
   ]
  },
  {
   "cell_type": "code",
   "execution_count": null,
   "metadata": {
    "collapsed": true
   },
   "outputs": [],
   "source": [
    "months = np.arange(1,12); print(months)"
   ]
  },
  {
   "cell_type": "markdown",
   "metadata": {},
   "source": [
    "Here, we've entered some data from the National Snow and Ice Data Center (NSIDC). They're the monthly means, starting in January.  "
   ]
  },
  {
   "cell_type": "code",
   "execution_count": null,
   "metadata": {
    "collapsed": true
   },
   "outputs": [],
   "source": [
    "sea_ice_extent = array([13.457, 14.203, 14.4, 13.681, 11.924, 10.413, \\\n",
    "                  7.938, 5.371, 4.528, 6.082, 8.658, 11.459])"
   ]
  },
  {
   "cell_type": "markdown",
   "metadata": {},
   "source": [
    "But we forgot to write the year to which these data belong! You can find it, however. Go to the website\n",
    "\n",
    "ftp://sidads.colorado.edu/DATASETS/NOAA/G02135/seaice_analysis/ \n",
    "\n",
    "and choose the file \"Sea_Ice_Index_Monthly_Data_by_Year_G02135_v3.0.xlsx\". If you scroll down that file, you'll see entries that correspond to the sea ice extent data we entered above.\n",
    "\n",
    "We also forgot to write down the units. You can figure that out by examining the \"Documentation\" sheet of this file. "
   ]
  },
  {
   "cell_type": "markdown",
   "metadata": {},
   "source": [
    "### Pause for analysis \n",
    "What year to the above sea ice extent data belong to? What are the units of the sea ice extent?"
   ]
  },
  {
   "cell_type": "markdown",
   "metadata": {},
   "source": [
    "Now plot the Sea Ice Extent as a function of month, and label your plot with the correct units and year."
   ]
  },
  {
   "cell_type": "code",
   "execution_count": null,
   "metadata": {
    "collapsed": true
   },
   "outputs": [],
   "source": [
    "figure()\n",
    "plot(months,sea_ice_extent,'.-')\n",
    "title('Northern Hemisphere seasonal sea ice extent for the year ______')\n",
    "xlabel('Month')\n",
    "ylabel('Extent (units ________)')\n",
    "grid(True)"
   ]
  },
  {
   "cell_type": "markdown",
   "metadata": {},
   "source": [
    "_Ice Volume_  \n",
    "We have already downloaded the ice volume data for this year. The units are $1000 \\ km^3$."
   ]
  },
  {
   "cell_type": "code",
   "execution_count": null,
   "metadata": {
    "collapsed": true
   },
   "outputs": [],
   "source": [
    "sea_ice_volume = array([17.185, 19.592, 21.524, 22.459, 21.026, 16.493, 10.257,  \\\n",
    "                  5.941,  4.530,  5.511,  7.834, 11.206])"
   ]
  },
  {
   "cell_type": "markdown",
   "metadata": {},
   "source": [
    "Plot the sea ice volume as a function of month, with the correct units and year. "
   ]
  },
  {
   "cell_type": "code",
   "execution_count": null,
   "metadata": {
    "collapsed": true
   },
   "outputs": [],
   "source": [
    "figure()\n",
    "grid(True)"
   ]
  },
  {
   "cell_type": "markdown",
   "metadata": {},
   "source": [
    "### Part III. Analyzing Arctic sea  ice data"
   ]
  },
  {
   "cell_type": "markdown",
   "metadata": {},
   "source": [
    "Here we make use of the \"min\" and \"max\" functions (built into numpy) to find the minimum and maximum in the sea ice extent and volume shown in the figures above. Make sure you get the units labeled properly."
   ]
  },
  {
   "cell_type": "code",
   "execution_count": null,
   "metadata": {
    "collapsed": true
   },
   "outputs": [],
   "source": [
    "# Print the range of ice volume change (max - min)\n",
    "Ice_volume_change = max(sea_ice_volume) - min(sea_ice_volume)\n",
    "print ('Seasonal ice_volume_change', Ice_volume_change, '10^3 km^3')\n",
    "\n",
    "# Print the range of ice extent change (max - min)\n"
   ]
  },
  {
   "cell_type": "markdown",
   "metadata": {},
   "source": [
    "Get these changes as percentages of the maximum"
   ]
  },
  {
   "cell_type": "code",
   "execution_count": null,
   "metadata": {
    "collapsed": true
   },
   "outputs": [],
   "source": [
    "# Get the change in volume as a percent of the maximum volume\n",
    "print ('As a percent, seasonal volume reduction = ', Ice_volume_change/max(sea_ice_volume)*100, '%')\n",
    "\n",
    "# Do the same for extent\n"
   ]
  },
  {
   "cell_type": "markdown",
   "metadata": {},
   "source": [
    "Calculate the thickness (in meters) from the volume and extent, over the entire year. We expect the thickness should be the ratio of the volume to the area, but be sure to get the units right."
   ]
  },
  {
   "cell_type": "code",
   "execution_count": null,
   "metadata": {
    "collapsed": true
   },
   "outputs": [],
   "source": [
    "figure()\n",
    "grid(True)"
   ]
  },
  {
   "cell_type": "markdown",
   "metadata": {},
   "source": [
    "### Post-activity reflection\n",
    "\n",
    "1. What sequence of events seems to initiate the meltin of sea ice in the spring? (e.g., volume reduction, followed by extent, then thickness?). \n",
    "2. Suppose two mechanisms for springtime ice melt are proposed:  \n",
    "\n",
    "    A) The sun's rays melt the ice (remember that the Arctic is dark in winter)   \n",
    "    B) warm water currents move into the Arctic and melt the ice. \n",
    "    \n",
    "   Which mechanism would seem to be more consistent with your observations? \n",
    "   What additional data might be helpful in deciding which is the better hypothesis? "
   ]
  }
 ],
 "metadata": {
  "kernelspec": {
   "display_name": "Python 3",
   "language": "python",
   "name": "python3"
  },
  "language_info": {
   "codemirror_mode": {
    "name": "ipython",
    "version": 3
   },
   "file_extension": ".py",
   "mimetype": "text/x-python",
   "name": "python",
   "nbconvert_exporter": "python",
   "pygments_lexer": "ipython3",
   "version": "3.6.7"
  }
 },
 "nbformat": 4,
 "nbformat_minor": 2
}
