{
 "cells": [
  {
   "cell_type": "markdown",
   "metadata": {},
   "source": [
    "## Computational Guided Inquiry for Polar Research  \n",
    "\n",
    "## Heat flux through permafrost\n",
    "\n",
    "### Learning Objectives\n",
    "1. Learn what permafrost is, how it responds to a warming climate, and why it matters.\n",
    "2. Examine changes in permafrost temperature over the course of an annual cycle. \n",
    "3. Develop skill in analyzing heat flow through a permafrost layer, using a numerical derivative technique.\n",
    "4. Examine change in permafrost temperature and heat flow over 4 years.\n",
    "\n",
    "### Pre-class activities\n",
    "\n",
    "1. Read the Introduction.  \n",
    "2. Check out the animation _Permafrost – what is it?_ described in the Introduction. \n",
    "3. In your notebook, briefly describe the effect of climate change on permafrost, and what problems it is causing.\n",
    "3. Define the terms _permafrost_, _thermal diffusivity_, _thermal conductivity_, _specific heat capacity_, and _volume heat capacity_."
   ]
  },
  {
   "cell_type": "markdown",
   "metadata": {},
   "source": [
    "### Introduction\n",
    "\n",
    "_Why study climate change in a Physics course?_  \n",
    "In this CGI module we will look at heat flux in the context of a real-world application: climate change. Climate change is arguably one of the greatest challenges we currently face. There is a scientific consensus that emission of fossil fuels by humans is leading to climate change, with serious negative consequences for life on our planet and for all of us. At the same time, the climate is extremely complicated, and understanding it requires an interdisciplinary effort, including chemistry, atmospheric science, geology, and social sciences. Further, scientists study climate through a broad range of observations of the land, atmosphere, and oceans. Some of the most difficult observations to collect are in the harsh, remote environments of the polar regions. Yet polar observations are crucial because the unique conditions of the polar regions lead to amplification of climate change. In this CGI, you will work directly with polar data, using your physics skills to examine the heat flux in permafrost in the Arctic. To allow you to work directly with observed data, you will use Python code. Although you will learn some basics of coding along the way, the Juypter Notebooks should provide a framework to guide you through each step.\n"
   ]
  },
  {
   "cell_type": "markdown",
   "metadata": {},
   "source": [
    "_Climate and Polar connection_  \n",
    "What is permafrost and how is it connected to polar regions? \n",
    "\n",
    "_Permafrost_ is permanently frozen ground. To be considered permafrost, it has to remain at or below 0°C for at least two years. Not surprisingly, permafrost occurs in polar regions, where it is cold. You can read about permafrost in the Arctic here: https://nsidc.org/cryosphere/sotc/permafrost.html. \n",
    "\n",
    "<p style ='text-align: center'>\n",
    "<img src=\"https://nsidc.org/sites/nsidc.org/files/images//yedoma_koluma.jpg\" height=\"300\" width=\"400\"/> \n",
    "<b>Figure 1. </b>Permafrost (Photo courtesy of the National Snow and Ice Data Center, University of Colorado, Boulder).\n",
    "</p>  \n",
    "\n",
    "\n",
    "What does permafrost have to do with climate change? Watch a video by the Alfred Wegener Institute in Europe titled _Permafrost – what is it?_ to find out. Go to the link: (https://www.awi.de/en/focus/permafrost.html) and watch the video there in preparation for the in-class activities in this exercise (you will need to scroll down a little to get to the video).\n",
    "\n"
   ]
  },
  {
   "cell_type": "markdown",
   "metadata": {},
   "source": [
    "_Physics connection_\n",
    "\n",
    "What can physics tell us about permafrost? If the temperature is measured with depth underground, we can calculate the heat flow. We need to make some definitions first. We'll let $z$ be the depth into the ground. This means that in the image below $z$=0 would be at the surface, and $z$ = 2 m would be around knee-level. \n",
    "\n",
    "<p style ='text-align: center;'>\n",
    "<img src=\"http://globalcryospherewatch.org/assessments/permafrost/permafrost.jpg\" height=\"300\" width=\"400\"/> \n",
    "<b>Figure 2. </b>Measuring temperature with depth in permafrost (Image from the International Permafrost Association courtesy of the Global Cryosphere Watch).\n",
    "</p>  \n",
    "\n",
    "\n",
    "Now suppose that you measured the temperature in each of the carved-out squares. These measurements would indicate the temperature for the layer of ice at that depth. We'll use $T$ to indicate temperature, so $T(z)$ is the temperature for a layer at depth $z$. The vertical heat flux through that layer depends on how $T$ changes with $z$:\n",
    "\n",
    "$j_h = -K_h \\frac{dT}{dz}$,\n",
    "\n",
    "\n",
    "\n",
    "You may remember from calculus that $\\frac{dT}{dz}$ is the change in $T$ for a small change in $z$. It has units of $K m^{-1}$.\n",
    "\n",
    "$K_h$ is the _thermal conductivity_, and it quantifies how well permafrost is able to transfer heat. It depends on two factors: how much heat is needed to increase the temperature of permafrost and how fast permafrost transfers heat. Suppose that each of the squares in the figure is hotter on one side than the other (for example, when the sun is warming the ground, it might be hotter at the top side than the bottom side). The rate of heat transfer of the permafrost from the hot side to the cold side is called the _thermal diffusivity_\n",
    "\n",
    "$D_h$, with units of [$m^2/s$].\n",
    "\n",
    "The thermal diffusivity tells us how quickly the permafrost transfers heat. We also need to know how much heat is needed to increase the temperature of the permafrost, or the _specific heat capacity_\n",
    "\n",
    "$c_h$, with units of [$ J \\space kg^{-1} K^{-1} $].  \n",
    "\n",
    "The specific heat capacity is defined to be per kg of permafrost. It's more convenient to have a heat capacity per m of permafrost, or the _volume heat capacity_. This is obtained from the specific heat capacity by multiplying by the density of the material, $\\rho$ ($kg \\space m^{-1}$)\n",
    "\n",
    "$C_h = \\rho c_h$, with units [$ J \\space m^{-1} K^{-1} $].\n",
    "\n",
    "From $C_h$ and $D_h$ we can get $K_h$, as follows \n",
    "\n",
    "$K_h = C_h D_h$, with units [$ J \\space m^{-1}s^{-1} K^{-1} $].\n",
    "\n",
    "The thermal conductivity tells you how heat (in J) moves through the permafrost (m) with time (s), based on the temperature (K). Thus $j_h$ at each depth depends on the change in temperature with depth and how heat moves through the permafrost with time for the given temperature.\n",
    "\n",
    "Note that we've defined terms so that a positive value of $j_h$ means heat is moving _down into the ground_, and a negative value means heat is moving _up toward the surface_. \n"
   ]
  },
  {
   "cell_type": "markdown",
   "metadata": {},
   "source": [
    "\n",
    "In this activity, you'll examine temperature profiles and calculate the vertical heat flux through permafrost."
   ]
  },
  {
   "cell_type": "markdown",
   "metadata": {},
   "source": [
    "### Part 1. Examining permafrost temperature data\n",
    "\n",
    "In the first part of this activity, you will look at data from an article about permafrost.  Follow the steps listed below.\n",
    "\n",
    "1. Click on the following link to view an article about permafrost: http://onlinelibrary.wiley.com/doi/10.1029/2000WR000163/epdf. \n",
    "2. In your notebook, write down the title of the article. Make sure you understand every word in the title, discussing it with another student as needed. \n",
    "3. Find Svalbard on the map below. The viewpoint is from the North Pole. Svalabard is located in the wedge below and just to the right of the plus, just outside the innermost blue circle.\n",
    "3. Also write down the authors and the publication data given at the top of the page. This article is the reference for the data you will be working with.\n",
    " \n",
    "<p style ='text-align: center;'>\n",
    "<img src=\"https://upload.wikimedia.org/wikipedia/commons/3/31/Arctic_circle.svg\" height=\"300\" width=\"400\"/> \n",
    "<b>Figure 3</b>. Map of the Arctic (Image from the US CIA World Factbook, courtesy of Wikimedia Commons).\n",
    "</p>  \n",
    "\n",
    "The data in this article was taken at the Bayelva catchment, in the Svalbard archipelago of Norway, located at ∼79°N, 12°E. This location has been the subject of a great many studies on permafrost. An image showing the temperature structure of a permafrost layer, spanning the years 1998-2000, has been saved as a .png file. In the next cell you'll load and display this image. \n",
    "\n",
    "You do not have to change anything in the cells unless directed to. Unless directed otherwise, just run the cells below one by one and look at the output."
   ]
  },
  {
   "cell_type": "code",
   "execution_count": null,
   "metadata": {},
   "outputs": [],
   "source": [
    "# Get some resources\n",
    "import numpy as np\n",
    "import matplotlib.pyplot as plt\n",
    "import matplotlib.image as mpimg\n",
    "import csv"
   ]
  },
  {
   "cell_type": "code",
   "execution_count": null,
   "metadata": {},
   "outputs": [],
   "source": [
    "# Load and display the permafrost data\n",
    "%matplotlib notebook\n",
    "\n",
    "img = mpimg.imread('temperature profiles of permafrost.png')\n",
    "fig = plt.figure(4, figsize=[8, 4])\n",
    "ax = fig.add_axes([0, 0, 1, 1])\n",
    "ax.set_axis_off()\n",
    "ax.imshow(img, aspect='auto')\n",
    "plt.axis('off')"
   ]
  },
  {
   "cell_type": "markdown",
   "metadata": {},
   "source": [
    "### Pause for analysis: Permafrost temperature with depth and time\n",
    "This is a complicated figure, because it shows three-dimentional data. One dimension is given by the x-axis and the other by the y-axis. The third dimension is given by the color. We will go through this figure carefully.\n",
    "\n",
    "- The y-axis is depth, just like in the permafrost picture we looked at earlier. \n",
    "- The x-axis is time, as shown at the top. The year is given at the very top. Below that, the month is given, where the S stands for September, O for October, and so on. Below that is given the day, numbered from January 1, 1998. \n",
    "- The color indicates the temperature. The key to the colors is given by the colorbar at the bottom. Purple is the coldest (-15$^\\circ$C) and red is the warmest (15$^\\circ$C).\n",
    "\n",
    "To understand all this, let's take a vertical slice through this figure. \n",
    "1. Note the total depth on the y-axis and how many tenths of meters is each tick mark.\n",
    "2. Note how many days is each minor tick mark on the upper x-axis.\n",
    "3. Find the day where the surface is the warmest. (This is the redest color, and occurs at about day 563).\n",
    "4. Next we will take a vertical slice through this figure on this day.  \n",
    "a. Write \"Day 563\" in your notebook. Also write down the corresponding year and month.  \n",
    "b. Put your finger at day 563 and 0 m. What color is the plot here? Write the depth and color down in your notebook.  \n",
    "c. Look at the color bar.  What temperature does this correspond to? Write that down too.  \n",
    "d. Slide your finger down to 0.5 m. Now repeat b-c for this depth.  \n",
    "e. Slide your finger down to 1 m and repeat b-c for this depth.  \n",
    "f. Arrange this data into a nice table in your notebook.\n",
    "\n",
    "Look back at Figure 2. This vertical slice would represent this entire figure; that is, all the temperature measurements you made in this section of permafrost. If you came back to the same place the next day, your measurements would correspond to the vertical slice shown in the figure above on day 564. If you kept returning every day from September 1998 to October 2000, you could stack the vertical slices next to each other and form the figure above.\n",
    "\n",
    "Compare your results with your neighbor and make sure they are similar. Discuss the following with your neighbor and write down the answers in your notebook. \n",
    "\n",
    "1. What are the coldest and warmest surface temperatures?  \n",
    "2. What are the coldest and warmest months of the year?  \n",
    "3. Does temperature appear to change more over the year at the surface or at a depth of 1 meter?  \n",
    "4. What do you suppose is responsible for this difference?  \n",
    "\n",
    "If you have any questions, ask the instructor."
   ]
  },
  {
   "cell_type": "markdown",
   "metadata": {},
   "source": [
    "### Part 2. Temperature profiles\n",
    "\n",
    "In the above, you extracted the temperatures for a vertical slice of the figure at day 563, in July 1999. Below you will plot your data. First, we need to create a vector of your depths, as follows: "
   ]
  },
  {
   "cell_type": "code",
   "execution_count": null,
   "metadata": {},
   "outputs": [],
   "source": [
    "my_depths = [.05, .5, 1]"
   ]
  },
  {
   "cell_type": "markdown",
   "metadata": {},
   "source": [
    "Next, we need a vector of your temperatures. Type them in below, inside the brackets, with commas between the numbers."
   ]
  },
  {
   "cell_type": "code",
   "execution_count": null,
   "metadata": {},
   "outputs": [],
   "source": [
    "# Type your temperatures inside the brackets (put a comma after each):\n",
    "my_temperatures = []"
   ]
  },
  {
   "cell_type": "code",
   "execution_count": null,
   "metadata": {},
   "outputs": [],
   "source": [
    "# Here, we graph your data\n",
    "plt.figure(5)\n",
    "plt.plot(my_temperatures, my_depths, 'rs-', label = 'My values, July 1999')\n",
    "\n",
    "# Dress up the display a little\n",
    "plt.xlabel('Temperature ($^\\circ$C)')\n",
    "plt.ylabel('depth (m)')\n",
    "plt.grid('on')\n",
    "plt.legend(loc = 'best')\n",
    "plt.ylim([0, 1.4])\n",
    "plt.gca().invert_yaxis()\n",
    "plt.axis([-15, 15, 1.4, 0])"
   ]
  },
  {
   "cell_type": "markdown",
   "metadata": {},
   "source": [
    "Ths plot is different than Figure 4. Depth is still on the y-axis, so you can imagine going down from the surface. But now *temperature* is on the x-axis, not time. All the data is for one time, July 1999 (shown in the legend).\n",
    "\n",
    "Make sure you understand this plot and how it corresponds to the vertical slice from Figure 4. If you have any questions, discuss with your neighbor and your instructor as needed.\n",
    "\n",
    "You did this at only three depths, but you could have done it at many more. To save you time, we did this for you. This data is loaded in and plotted below."
   ]
  },
  {
   "cell_type": "code",
   "execution_count": null,
   "metadata": {},
   "outputs": [],
   "source": [
    "# Load the July 1998, temperature profile\n",
    "profile = np.loadtxt('T1.txt')\n",
    "z = profile[:,0]\n",
    "T_July_1998 = profile[:,1]"
   ]
  },
  {
   "cell_type": "code",
   "execution_count": null,
   "metadata": {},
   "outputs": [],
   "source": [
    "# Add more data to the plot above (scroll back up after running this cell to see it)\n",
    "plt.plot(T_July_1998, z, '-o', color = 'orange', label='July 1998')\n",
    "plt.legend(loc = 'best')"
   ]
  },
  {
   "cell_type": "markdown",
   "metadata": {},
   "source": [
    "How did you do? Don't worry if your values don't agree perfectly, but they should be similar.  \n",
    "\n",
    "Next you will load in and plot profiles of temperature at two other times. These will correspond to vertical slices through Figure 4 at at other times, and for one of them, you will have to figure out when."
   ]
  },
  {
   "cell_type": "code",
   "execution_count": null,
   "metadata": {},
   "outputs": [],
   "source": [
    "# Load a second temperature profile, from November 1998\n",
    "profile = np.loadtxt('T2.txt')\n",
    "z = profile[:,0]\n",
    "T_Nov_1998 = profile[:,1]\n",
    "\n",
    "# Load a third temperature profile\n",
    "profile = np.loadtxt('T3.txt')\n",
    "z = profile[:,0]\n",
    "T3 = profile[:,1]"
   ]
  },
  {
   "cell_type": "code",
   "execution_count": null,
   "metadata": {},
   "outputs": [],
   "source": [
    "# Graph all three, below\n",
    "plt.figure(6)\n",
    "\n",
    "# Graph vertical slices from November and July 1998\n",
    "plt.plot(T_Nov_1998, z, '-go', label = 'November 1998')\n",
    "plt.plot(T_July_1998, z, '-o', color = 'orange', label='July 1998')\n",
    "\n",
    "# Graph a vertical slice from a mystery time\n",
    "plt.plot(T3, z, '-mo', label = '???')\n",
    "\n",
    "# Dress up the display a little\n",
    "plt.xlabel('Temperature (C)')\n",
    "plt.ylabel('depth (m)')\n",
    "plt.grid('on')\n",
    "plt.legend(loc = 'best')\n",
    "plt.ylim([0, 1.4])\n",
    "plt.gca().invert_yaxis()"
   ]
  },
  {
   "cell_type": "markdown",
   "metadata": {},
   "source": [
    "### Pause for analysis: Comparing ways of displaying temperature with depth.\n",
    "1. Find November 1998 in Figure 4. Do you agree that that the green profile above corresponds to this date? What other dates look similar?\n",
    "2. How does the green curve compare to the orange curve? Where is the ground warming or cooling between November and July? Why do you think this might be the case?  \n",
    "3. When was the purple temperature profile above measured? Go back to Figure 4 and find out.  \n",
    "4. In the cell above, replace the ??? with your guess date for the purple temperature profile and re-run it. "
   ]
  },
  {
   "cell_type": "markdown",
   "metadata": {},
   "source": [
    "### Part 3. Learning how to take a numerical derivative\n",
    "\n",
    "Our goal is to examine the heat flux through our layer of permafrost, using the equation for $j_h$ given in the Introduction. Before doing so, however, you'll need to develop some skill at taking numerical deriviatives. A package in Python has a few handy functions for this. One is called \"linspace\", which allows one to generate a sequence of equally-spaced numbers. Another is called \"diff\", that allows you to find the differences between numbers in a sequence. In the next few cells you'll learn how to use these functions to take a numerical derivative."
   ]
  },
  {
   "cell_type": "code",
   "execution_count": null,
   "metadata": {},
   "outputs": [],
   "source": [
    "# Make up a sequence of five numbers\n",
    "x = np.linspace(0,1,5)\n",
    "print(x)"
   ]
  },
  {
   "cell_type": "markdown",
   "metadata": {},
   "source": [
    "### Try your skill: making a sequence of numbers\n",
    "The numbers in parentheses in the cell above specify the range and number of points. Repeat it in the cell below, but with nine numbers instead of five."
   ]
  },
  {
   "cell_type": "code",
   "execution_count": null,
   "metadata": {},
   "outputs": [],
   "source": [
    "# Make up a sequence of nine numbers\n",
    "x = np.linspace()\n",
    "print(x)"
   ]
  },
  {
   "cell_type": "markdown",
   "metadata": {},
   "source": [
    "The next task is to take the difference between these numbers. That's done with diff, as you can see below."
   ]
  },
  {
   "cell_type": "code",
   "execution_count": null,
   "metadata": {},
   "outputs": [],
   "source": [
    "dx = np.diff(x)\n",
    "print(dx)"
   ]
  },
  {
   "cell_type": "markdown",
   "metadata": {},
   "source": [
    "Did you see what happened? You can see that the result has one less value than you started with (of course). \n",
    "\n",
    "You can do the same with any array of numbers. Say, for example, you were interested in a function $f(x)=x^2$. First, calculate $f(x)$ for your series of x-values, and graph it."
   ]
  },
  {
   "cell_type": "code",
   "execution_count": null,
   "metadata": {},
   "outputs": [],
   "source": [
    "# Calculate f(x)\n",
    "f = x**2\n",
    "print(f)\n",
    "\n",
    "# Graph it\n",
    "plt.figure()\n",
    "plt.plot(x,f)"
   ]
  },
  {
   "cell_type": "markdown",
   "metadata": {},
   "source": [
    "Now, calculate df"
   ]
  },
  {
   "cell_type": "code",
   "execution_count": null,
   "metadata": {},
   "outputs": [],
   "source": [
    "# Calculate df\n",
    "df = np.diff(f)\n",
    "print(df)"
   ]
  },
  {
   "cell_type": "markdown",
   "metadata": {},
   "source": [
    "To calculate the derivative is easy: you just divide df by dx "
   ]
  },
  {
   "cell_type": "code",
   "execution_count": null,
   "metadata": {},
   "outputs": [],
   "source": [
    "df_dx = df/dx\n",
    "print(df_dx)"
   ]
  },
  {
   "cell_type": "markdown",
   "metadata": {},
   "source": [
    "We're almost done with this tutorial. A slight twist comes when you want to graph df/dx. Because both df and dx are one shorter than the original f and x, you need to shorten the x-array too. You can do this with the following command:"
   ]
  },
  {
   "cell_type": "code",
   "execution_count": null,
   "metadata": {},
   "outputs": [],
   "source": [
    "# Get a shortened x-array\n",
    "x_short = x[0:-1]\n",
    "print(x_short)"
   ]
  },
  {
   "cell_type": "markdown",
   "metadata": {},
   "source": [
    "OK, now you're ready to graph df/dx as a function of x!"
   ]
  },
  {
   "cell_type": "code",
   "execution_count": null,
   "metadata": {},
   "outputs": [],
   "source": [
    "# Graph df/dx\n",
    "plt.figure()\n",
    "plt.plot(x_short, df_dx)"
   ]
  },
  {
   "cell_type": "markdown",
   "metadata": {},
   "source": [
    "### Pause for analysis: calculating the derivative\n",
    "Does this graph make sense to you? Using your knowledge of calculus, obtain an analytical expression for df/dx, and compare it to the graph above."
   ]
  },
  {
   "cell_type": "markdown",
   "metadata": {},
   "source": [
    "### Part 4. Analyzing heat flow through a permafrost layer\n",
    "\n",
    "Next we'll examine how heat flows through our layers. We'll need some parameters for permafrost first."
   ]
  },
  {
   "cell_type": "code",
   "execution_count": null,
   "metadata": {},
   "outputs": [],
   "source": [
    "# Parameters of the permafrost we need for analysis\n",
    "Dh = 8e-7 # m^2/s\n",
    "Kh = 1.0 # J/m/s/K\n",
    "Ch = Kh/Dh # J/m^3/K\n",
    "ch = 2e3 # J/kg/K\n",
    "rho = Ch/ch # kg/m^3\n",
    "\n",
    "print('Thermal diffusivity: '+str(Dh)+' m^2/s')\n",
    "print('Thermal conductivity: '+str(Kh)+' J/m/s/K')\n",
    "print('Heat capacity: '+str(Ch)+' J/m^3/K')\n",
    "print('Soil density consistent from these parameters: '+str(rho)+' kg/m^3')"
   ]
  },
  {
   "cell_type": "markdown",
   "metadata": {},
   "source": [
    "It's useful to convert the density into a more familiar unit, $g/cm^3$, since we know that the density of pure water has a density of $1 g/cm^3$, so the density of permafrost should be a little less. Print the density of our soil as $g/cm^3$. "
   ]
  },
  {
   "cell_type": "code",
   "execution_count": null,
   "metadata": {},
   "outputs": [],
   "source": [
    "# Printing the soil density in g/cm^3 \n",
    "print(rho/1e3)"
   ]
  },
  {
   "cell_type": "markdown",
   "metadata": {},
   "source": [
    "Now you're ready to calculate and graph the vertical heat flux, $j_h$, associated with the July 1998 temperature profile. The relevant equation is in the introduction. "
   ]
  },
  {
   "cell_type": "code",
   "execution_count": null,
   "metadata": {},
   "outputs": [],
   "source": [
    "# Vertical heat flux (hint: use T_July_1998 for the temperature)\n",
    "jh = \n",
    "\n",
    "# Graphing. \n",
    "plt.figure(9)\n",
    "plt.plot(jh, z[:-1],label='jh1')\n",
    "plt.xlabel('Heat flux (W/m$^2$)')\n",
    "plt.ylabel('depth (m)')\n",
    "plt.gca().invert_yaxis()\n",
    "plt.grid('on')"
   ]
  },
  {
   "cell_type": "markdown",
   "metadata": {},
   "source": [
    "### Try your skill: vertical heat flux\n",
    "\n",
    "Do the same for the November 1998 temperature profile."
   ]
  },
  {
   "cell_type": "code",
   "execution_count": null,
   "metadata": {},
   "outputs": [],
   "source": [
    "# Vertical heat flux (hint: make sure you use the Nov. 1998 temperature)\n",
    "jh = \n",
    "\n",
    "# Graphing. \n",
    "plt.figure(10)\n",
    "plt.plot(jh, z[:-1], label = 'jh1')\n",
    "plt.xlabel('Heat flux (W/m$^2$)')\n",
    "plt.ylabel('depth (m)')\n",
    "plt.gca().invert_yaxis()\n",
    "plt.grid('on')"
   ]
  },
  {
   "cell_type": "markdown",
   "metadata": {},
   "source": [
    "### Pause for analysis: heat flow\n",
    "1. Is heat flowing up through the surface, or down into it?  \n",
    "2. At what depth is the heat flux the greatest?  \n",
    "3. Which profile (July 1998 or November 1998) has the greater heat flux?  \n",
    "4. Can you explain why based on the profiles themselves?"
   ]
  },
  {
   "cell_type": "markdown",
   "metadata": {},
   "source": [
    "## Part 5. Downloading Arctic permafrost data from Nome, Alaska\n",
    "\n",
    "Next you will download temperatures in Arctic permafrost from Nome, Alaska. Find Nome on the map in Figure 3. Nome is located just outside the Arctic circle (dashed dark blue circle) in Alaska (light green, near the top of the map).\n",
    "\n",
    "This data is kept at the Global Terrestrial Network for Permafrost (GTNP), at https://gtnp.arcticportal.org/resources/maps/121-gtn-p-data-portal-survey. \n",
    "\n",
    "1. Click on the link to go to the website.  \n",
    "2. Click on GTN-P database in near the bottom of the page.  \n",
    "3. Click on \"Permafrost Temperatures.\"  \n",
    "4. In the search box that says \"Name,\" type in \"Nome\" for Nome, Alaska.  \n",
    "5. There will now only be two choices. To the right of the bottom one, \"Nome, TBA,\" click the box.\n",
    "6. A green checkmark should appear in the box and a download icon should flash. Click on the download icon to download the data. \n",
    "7. Click the box next to \"Include time series in this package\" and click \"Download Package.\"\n",
    "8. Click the green \"I agree\" button and it will be downloaded.  \n",
    "9. Go into your downloads folder and double-click the zip file that appears to open it. On a Mac, this will create a new folder.  \n",
    "10. Inside the new folder is a file with a long name: \"Borehole_740-Nome__TBA_-Dataset_1125-Constant_Over_Interval-Annually-Ground_Temperature-Unknown.timeserie.\" Move this file into your working directory.  \n",
    "11. If you have any trouble, check in with a neighbor, then ask your instructor if you still need help. Your instructor can provide the file for you (e.g. on a thumb drive) if you cannot download it.  \n",
    "\n",
    "In the following, you will load and plot the data.\n"
   ]
  },
  {
   "cell_type": "markdown",
   "metadata": {},
   "source": [
    "## Part 6. Plotting permafrost temperature and heat flux from Nome, Alaska\n"
   ]
  },
  {
   "cell_type": "code",
   "execution_count": null,
   "metadata": {},
   "outputs": [],
   "source": [
    "# Load the file you downloaded and get the data\n",
    "filename = 'Borehole_740-Nome__TBA_-Dataset_1125-Constant_Over_Interval' + \\\n",
    "            '-Annually-Ground_Temperature-Unknown.timeserie.csv'\n",
    "\n",
    "dates = []; data = []; count = 0\n",
    "with open(filename) as csvfile:\n",
    "    readCSV = csv.reader(csvfile, delimiter=',')\n",
    "    for row in readCSV:\n",
    "        dates.append(row[0])\n",
    "        this_row = np.array([np.float(x) for x in row[1:]])\n",
    "        this_row[this_row==-999] = np.nan\n",
    "        data.append(this_row)\n",
    "\n",
    "# Organize the data into what you will actually use\n",
    "dates_Nome = dates[1:]       # These are the dates\n",
    "z_Nome = data[0]             # These are the depths, in m\n",
    "T_Nome = data[1:]            # These are the Temperatures at each depth. There are 4 sets.\n"
   ]
  },
  {
   "cell_type": "code",
   "execution_count": null,
   "metadata": {},
   "outputs": [],
   "source": [
    "# Now we'll plot the data:\n",
    "plt.figure(11)\n",
    "plt.plot(T_Nome[0], z_Nome, label = dates_Nome[0][:10])\n",
    "plt.plot(T_Nome[1], z_Nome, label = dates_Nome[1][:10])\n",
    "plt.plot(T_Nome[2], z_Nome, label = dates_Nome[2][:10])\n",
    "plt.plot(T_Nome[3], z_Nome, label = dates_Nome[3][:10])\n",
    "plt.gca().invert_yaxis()\n",
    "plt.legend()\n",
    "plt.ylabel('Depth (m)')\n",
    "plt.xlabel('Temperature (C)')\n"
   ]
  },
  {
   "cell_type": "markdown",
   "metadata": {},
   "source": [
    "### Pause for Analysis: Permafrost data from Nome, Alaska\n",
    "1. How is this data different than the data looked at previously (for Svalbard)?\n",
    "2. The Nome data are all around the same day of the year. What do you think is causing the variability among the years?\n",
    "3. Predict what the heat fluxes will look like.\n",
    "\n",
    "Next we will compute the heat flux for each of the four profiles. Complete the cell below and run it. (Python counts from 0, so the first one is renamed the \"0th\" etc.)"
   ]
  },
  {
   "cell_type": "code",
   "execution_count": null,
   "metadata": {},
   "outputs": [],
   "source": [
    "# Change in depth (done for you)\n",
    "dz = np.diff(z_Nome)\n",
    "\n",
    "# Change in temperature cases 0-3 (done for you)\n",
    "dT0 = np.diff(T_Nome[0])\n",
    "dT1 = np.diff(T_Nome[1])\n",
    "dT2 = np.diff(T_Nome[2])\n",
    "dT3 = np.diff(T_Nome[3])\n",
    "\n",
    "# Complete the following to calculate the heat fluxes for temperature profiles 0-4\n",
    "jh0 = -Kh * dT0 / dz\n",
    "jh1 = -Kh * dT1 / dz\n",
    "jh2 = -Kh * dT2 / dz\n",
    "jh3 = -Kh * dT3 / dz\n"
   ]
  },
  {
   "cell_type": "code",
   "execution_count": null,
   "metadata": {},
   "outputs": [],
   "source": [
    "# Plot it. \n",
    "plt.figure()\n",
    "plt.plot(jh0, z_Nome[:-1], label = dates_Nome[0][:10])\n",
    "plt.plot(jh1, z_Nome[:-1], label = dates_Nome[1][:10])\n",
    "plt.plot(jh2, z_Nome[:-1], label = dates_Nome[2][:10])\n",
    "plt.plot(jh3, z_Nome[:-1], label = dates_Nome[3][:10])\n",
    "plt.xlabel('Heat flux (W/m$^2$)')\n",
    "plt.ylabel('depth (m)')\n",
    "plt.gca().invert_yaxis()\n",
    "plt.grid('on')\n",
    "plt.legend(loc='best')\n",
    "plt.title('Nome, Alaska')"
   ]
  },
  {
   "cell_type": "markdown",
   "metadata": {},
   "source": [
    "### Pause for Analysis\n",
    "1. Use the zoom feature to zoom in around -0.05 to 0.1 C.  \n",
    "2. How do the heat fluxes compare?  At what depths are they the same/different for different years?\n",
    "3. How does this compare to your prediction?\n",
    "4. Explain how the temperature and heat fluxes are different in 2011 from the other years. What are the consequences of this difference for permafrost melt?"
   ]
  },
  {
   "cell_type": "markdown",
   "metadata": {},
   "source": [
    "### Post-activity reflection\n",
    "1. The first set of data only went down to 1.4 m, whereas the second set didn't even start until between 1 and 4 meters below the surface. Why do you suppose the deeper measurements missed the first 1 to 4 meters?\n",
    "2. What is permafrost and why do we care about it?\n",
    "3. Imagine you are the scientist who measured the permafrost temperatures at Nome, Alaska. To get a better sense of what is going on, what additional measurements would you like to make?\n",
    "4. What is the equation for heat flux and what do the terms in it refer to?"
   ]
  }
 ],
 "metadata": {
  "kernelspec": {
   "display_name": "Python 3",
   "language": "python",
   "name": "python3"
  },
  "language_info": {
   "codemirror_mode": {
    "name": "ipython",
    "version": 3
   },
   "file_extension": ".py",
   "mimetype": "text/x-python",
   "name": "python",
   "nbconvert_exporter": "python",
   "pygments_lexer": "ipython3",
   "version": "3.6.7"
  }
 },
 "nbformat": 4,
 "nbformat_minor": 2
}
